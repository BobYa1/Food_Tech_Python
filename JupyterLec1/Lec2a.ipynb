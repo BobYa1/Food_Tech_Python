{
  "nbformat": 4,
  "nbformat_minor": 0,
  "metadata": {
    "kernelspec": {
      "display_name": "Python 3",
      "language": "python",
      "name": "python3"
    },
    "language_info": {
      "codemirror_mode": {
        "name": "ipython",
        "version": 3
      },
      "file_extension": ".py",
      "mimetype": "text/x-python",
      "name": "python",
      "nbconvert_exporter": "python",
      "pygments_lexer": "ipython3",
      "version": "3.7.7"
    },
    "colab": {
      "name": "Lec2a.ipynb",
      "provenance": [],
      "collapsed_sections": [
        "1OBZlDOiHpqe",
        "hzFHisDCHpq3",
        "h6KLIQIeHprA",
        "aT87dRfyHprS",
        "CaL-ZA4lHprX",
        "6vgGhCmdHprx",
        "nSMdyN66Hpsn",
        "Ay9PLoP0HptW",
        "kIgFYjRKHptx"
      ]
    }
  },
  "cells": [
    {
      "cell_type": "markdown",
      "metadata": {
        "pycharm": {
          "name": "#%% md\n"
        },
        "id": "myfd_z94Hppg"
      },
      "source": [
        "## סוגי מספריים בפייתון\n",
        "\n",
        "(1) Integers\n",
        "\n",
        "(2) Floating point\n",
        "\n"
      ]
    },
    {
      "cell_type": "markdown",
      "metadata": {
        "id": "CQhrxhdKHppi"
      },
      "source": [
        "<table>\n",
        "<tr>\n",
        "    <th>דוגמאות</th>\n",
        "    <th>Number \"Type\"</th>\n",
        "</tr>\n",
        "\n",
        "<tr>\n",
        "    <td>1,2,-3,10000</td>\n",
        "    <td>Integers</td>\n",
        "</tr>\n",
        "\n",
        "<tr>\n",
        "    <td>1.3,-0.7,2e3,4E2</td>\n",
        "    <td>Floating-point numbers</td>\n",
        "</tr>\n",
        " </table>"
      ]
    },
    {
      "cell_type": "markdown",
      "metadata": {
        "id": "rTbKj4IcHppo"
      },
      "source": [
        "### חישובים פשוטים - מחשבון\n"
      ]
    },
    {
      "cell_type": "code",
      "metadata": {
        "jupyter": {
          "outputs_hidden": false
        },
        "pycharm": {
          "name": "#%%\n"
        },
        "id": "os8ccQ6GHppp",
        "outputId": "a823c9d8-c75d-4899-fe09-a7a69adeefbe",
        "colab": {
          "base_uri": "https://localhost:8080/"
        }
      },
      "source": [
        "#חיבור\n",
        "\n",
        "4+7"
      ],
      "execution_count": null,
      "outputs": [
        {
          "output_type": "execute_result",
          "data": {
            "text/plain": [
              "11"
            ]
          },
          "metadata": {
            "tags": []
          },
          "execution_count": 4
        }
      ]
    },
    {
      "cell_type": "code",
      "metadata": {
        "jupyter": {
          "outputs_hidden": false
        },
        "pycharm": {
          "name": "#%%\n"
        },
        "id": "qVEPV3-kHpp0",
        "outputId": "955fa13b-77b5-4bc0-f798-833c72cab79d",
        "colab": {
          "base_uri": "https://localhost:8080/"
        }
      },
      "source": [
        "#חיסור\n",
        "\n",
        "50-2"
      ],
      "execution_count": null,
      "outputs": [
        {
          "output_type": "execute_result",
          "data": {
            "text/plain": [
              "48"
            ]
          },
          "metadata": {
            "tags": []
          },
          "execution_count": 5
        }
      ]
    },
    {
      "cell_type": "code",
      "metadata": {
        "jupyter": {
          "outputs_hidden": false
        },
        "pycharm": {
          "name": "#%%\n"
        },
        "id": "CXcayzouHpp5"
      },
      "source": [
        "# כפל\n",
        "\n",
        "3*8\n"
      ],
      "execution_count": null,
      "outputs": []
    },
    {
      "cell_type": "code",
      "metadata": {
        "jupyter": {
          "outputs_hidden": false
        },
        "pycharm": {
          "name": "#%%\n"
        },
        "id": "BPUeGaTLHpp9",
        "outputId": "d9886c6e-2a5f-4c48-c7df-97e8aa7d7510",
        "colab": {
          "base_uri": "https://localhost:8080/"
        }
      },
      "source": [
        "# חלוקה\n",
        "\n",
        "print(44/2)\n",
        "\n",
        "print(45/2)"
      ],
      "execution_count": null,
      "outputs": [
        {
          "output_type": "stream",
          "text": [
            "22.0\n",
            "22.5\n"
          ],
          "name": "stdout"
        }
      ]
    },
    {
      "cell_type": "code",
      "metadata": {
        "jupyter": {
          "outputs_hidden": false
        },
        "pycharm": {
          "name": "#%%\n"
        },
        "id": "BXZi0obWHpqA",
        "outputId": "eaf3e13c-8db4-4a0c-c12d-063d6c630b19",
        "colab": {
          "base_uri": "https://localhost:8080/"
        }
      },
      "source": [
        "# Floor Division - מחלק\n",
        "6//4"
      ],
      "execution_count": null,
      "outputs": [
        {
          "output_type": "execute_result",
          "data": {
            "text/plain": [
              "1"
            ]
          },
          "metadata": {
            "tags": []
          },
          "execution_count": 12
        }
      ]
    },
    {
      "cell_type": "code",
      "metadata": {
        "jupyter": {
          "outputs_hidden": false
        },
        "pycharm": {
          "name": "#%%\n"
        },
        "id": "_XSXuxwtHpqD",
        "outputId": "0727fcc1-0953-41ba-bc3e-a86aa2f6ed0a",
        "colab": {
          "base_uri": "https://localhost:8080/"
        }
      },
      "source": [
        "# Modulo - שארית\n",
        "\n",
        "print(6%4)\n",
        "\n",
        "print(6%2)\n",
        "\n",
        "print(7%2)"
      ],
      "execution_count": null,
      "outputs": [
        {
          "output_type": "stream",
          "text": [
            "2\n",
            "0\n",
            "1\n"
          ],
          "name": "stdout"
        }
      ]
    },
    {
      "cell_type": "code",
      "metadata": {
        "jupyter": {
          "outputs_hidden": false
        },
        "pycharm": {
          "name": "#%%\n"
        },
        "id": "tHdYuDjSHpqG",
        "outputId": "edec7a72-a56e-4bab-b561-173b08728c36",
        "colab": {
          "base_uri": "https://localhost:8080/"
        }
      },
      "source": [
        "# חזקה\n",
        "\n",
        "print(5**2)\n",
        "\n",
        "print(5**4)\n"
      ],
      "execution_count": null,
      "outputs": [
        {
          "output_type": "stream",
          "text": [
            "25\n",
            "625\n"
          ],
          "name": "stdout"
        }
      ]
    },
    {
      "cell_type": "code",
      "metadata": {
        "jupyter": {
          "outputs_hidden": false
        },
        "pycharm": {
          "name": "#%%\n"
        },
        "id": "eLgfeDX9HpqK",
        "outputId": "dd96eab5-3365-4654-90d5-3def2b962b62",
        "colab": {
          "base_uri": "https://localhost:8080/"
        }
      },
      "source": [
        "# שורש\n",
        "\n",
        "print(4**0.5)\n",
        "\n",
        "# https://www.tutorialspoint.com/python/number_sqrt.htm\n",
        "# try\n",
        "\n",
        "import math\n",
        "print(math.sqrt(99))"
      ],
      "execution_count": null,
      "outputs": [
        {
          "output_type": "stream",
          "text": [
            "2.0\n",
            "9.9498743710662\n"
          ],
          "name": "stdout"
        }
      ]
    },
    {
      "cell_type": "code",
      "metadata": {
        "jupyter": {
          "outputs_hidden": false
        },
        "pycharm": {
          "name": "#%%\n"
        },
        "id": "5fj53japHpqM",
        "outputId": "2e9dbb43-1f40-4b48-888b-986cbb3308b8",
        "colab": {
          "base_uri": "https://localhost:8080/"
        }
      },
      "source": [
        "# סדר פעולות\n",
        "\n",
        "print(4+3*3+1)\n",
        "\n",
        "print((4+3)*(3+1))\n",
        "\n",
        "print((55+7*9)+4*8)"
      ],
      "execution_count": null,
      "outputs": [
        {
          "output_type": "stream",
          "text": [
            "14\n",
            "28\n",
            "150\n"
          ],
          "name": "stdout"
        }
      ]
    },
    {
      "cell_type": "markdown",
      "metadata": {
        "pycharm": {
          "name": "#%% md\n"
        },
        "id": "6EFS7QuPHpqO"
      },
      "source": [
        "## Indentation\n",
        "הֲזָחָה (או אִינְדֶּנְטַצְיָה, על פי המקור הלועזי) היא הרחקה של שורה כתובה מהשוליים. הזחה נהוגה בדפוס ובתכנות מחשבים."
      ]
    },
    {
      "cell_type": "code",
      "metadata": {
        "pycharm": {
          "name": "#%%\n"
        },
        "id": "Bzkf6Cm2HpqP"
      },
      "source": [
        "print(4+3*3+1)\n",
        "\n",
        " print((4+3)*(3+1))"
      ],
      "execution_count": null,
      "outputs": []
    },
    {
      "cell_type": "code",
      "metadata": {
        "id": "9DHTTXn2HpqS",
        "outputId": "408c7993-b883-4cc1-d7e1-0d549c538222"
      },
      "source": [
        "## הגדרת משתנים"
      ],
      "execution_count": null,
      "outputs": [
        {
          "output_type": "error",
          "ename": "IndentationError",
          "evalue": "unexpected indent (<ipython-input-2-5c0d67ea9733>, line 3)",
          "traceback": [
            "\u001b[1;36m  File \u001b[1;32m\"<ipython-input-2-5c0d67ea9733>\"\u001b[1;36m, line \u001b[1;32m3\u001b[0m\n\u001b[1;33m    print((4+3)*(3+1))\u001b[0m\n\u001b[1;37m    ^\u001b[0m\n\u001b[1;31mIndentationError\u001b[0m\u001b[1;31m:\u001b[0m unexpected indent\n"
          ]
        }
      ]
    },
    {
      "cell_type": "markdown",
      "metadata": {
        "id": "1OBZlDOiHpqe"
      },
      "source": [
        "## הגדרת משתנים"
      ]
    },
    {
      "cell_type": "code",
      "metadata": {
        "id": "8bgWh8s2WYBB",
        "outputId": "f82f08fa-e0c0-4071-9e60-4a1cf9438788",
        "colab": {
          "base_uri": "https://localhost:8080/"
        }
      },
      "source": [
        "print(0.1+0.2)\n",
        "\n",
        "print(0.1+0.3)\n",
        "\n",
        "print(0.1+0.2-0.3)\n",
        "\n",
        "print(0.1+0.1-0.2)"
      ],
      "execution_count": null,
      "outputs": [
        {
          "output_type": "stream",
          "text": [
            "0.30000000000000004\n",
            "0.4\n",
            "5.551115123125783e-17\n",
            "0.0\n"
          ],
          "name": "stdout"
        }
      ]
    },
    {
      "cell_type": "code",
      "metadata": {
        "jupyter": {
          "outputs_hidden": false
        },
        "pycharm": {
          "name": "#%%\n"
        },
        "id": "09mcs1lsHpqf",
        "outputId": "203cbfc8-39ba-466b-dd08-759a382d7b87"
      },
      "source": [
        "b=4\n",
        "\n",
        "print(b)"
      ],
      "execution_count": null,
      "outputs": [
        {
          "output_type": "stream",
          "text": [
            "4\n"
          ],
          "name": "stdout"
        }
      ]
    },
    {
      "cell_type": "code",
      "metadata": {
        "jupyter": {
          "outputs_hidden": false
        },
        "pycharm": {
          "name": "#%%\n"
        },
        "id": "WwQ77uVdHpqm",
        "outputId": "157ecce6-0c4c-43ad-cc1f-67fcb9453f8c"
      },
      "source": [
        "b+b"
      ],
      "execution_count": null,
      "outputs": [
        {
          "output_type": "execute_result",
          "data": {
            "text/plain": [
              "8"
            ]
          },
          "metadata": {
            "tags": []
          },
          "execution_count": 9
        }
      ]
    },
    {
      "cell_type": "code",
      "metadata": {
        "jupyter": {
          "outputs_hidden": false
        },
        "pycharm": {
          "name": "#%%\n"
        },
        "id": "eRInffEKHpqr"
      },
      "source": [
        "b+B"
      ],
      "execution_count": null,
      "outputs": []
    },
    {
      "cell_type": "code",
      "metadata": {
        "jupyter": {
          "outputs_hidden": false
        },
        "pycharm": {
          "name": "#%%\n"
        },
        "id": "lUmw2MLxHpqv"
      },
      "source": [
        "b=32\n",
        "print(b)\n",
        "b"
      ],
      "execution_count": null,
      "outputs": []
    },
    {
      "cell_type": "code",
      "metadata": {
        "jupyter": {
          "outputs_hidden": false
        },
        "pycharm": {
          "name": "#%%\n"
        },
        "id": "9RQSCVVPHpqz"
      },
      "source": [
        "b\n",
        "b=b+b\n",
        "b\n",
        "\n"
      ],
      "execution_count": null,
      "outputs": []
    },
    {
      "cell_type": "markdown",
      "metadata": {
        "id": "hzFHisDCHpq3"
      },
      "source": [
        "## כללים\n",
        "\n",
        "(1) שם משתנה לא יתחיל עם מספר\n",
        "\n",
        "(2) שם משתנה לא יכלול רווחים במקומם נשתמש בקו תחתון _.\n",
        "\n",
        "(3) שמות משתנים באנגלית באותיות קטנות.\n",
        "\n",
        "(4) אסור להשתמש בסימנים הבאים בשמות משתנים: '\",<>/?|\\()!@#$%^&*~-+\n",
        "\n",
        "(5) לא נשתמש ב l, o, I\n",
        "\n",
        "(6) יש להימנע ממתן שמות שהם פקודות מיוחד בפיתון, כמו למשל str"
      ]
    },
    {
      "cell_type": "code",
      "metadata": {
        "jupyter": {
          "outputs_hidden": false
        },
        "pycharm": {
          "name": "#%%\n"
        },
        "id": "OsGxFXBXHpq4",
        "outputId": "4e5ae0a1-ee6b-4c4c-d100-d49556974192"
      },
      "source": [
        "my_income = 90\n",
        "\n",
        "tax_rate = 0.2\n",
        "\n",
        "my_taxes = my_income*tax_rate\n",
        "\n",
        "my_taxes\n"
      ],
      "execution_count": null,
      "outputs": [
        {
          "output_type": "execute_result",
          "data": {
            "text/plain": [
              "18.0"
            ]
          },
          "metadata": {
            "tags": []
          },
          "execution_count": 13
        }
      ]
    },
    {
      "cell_type": "markdown",
      "metadata": {
        "id": "h6KLIQIeHprA"
      },
      "source": [
        "## Dynamic typing"
      ]
    },
    {
      "cell_type": "code",
      "metadata": {
        "jupyter": {
          "outputs_hidden": false
        },
        "pycharm": {
          "name": "#%%\n"
        },
        "id": "ix_vfXuGHprB",
        "outputId": "d23b7e2c-4028-4bf2-d847-704d8d85d62c"
      },
      "source": [
        "dogs = 3\n",
        "dogs"
      ],
      "execution_count": null,
      "outputs": [
        {
          "output_type": "execute_result",
          "data": {
            "text/plain": [
              "3"
            ]
          },
          "metadata": {
            "tags": []
          },
          "execution_count": 12
        }
      ]
    },
    {
      "cell_type": "code",
      "metadata": {
        "jupyter": {
          "outputs_hidden": false
        },
        "pycharm": {
          "name": "#%%\n"
        },
        "id": "PeJ9W7ToHprF"
      },
      "source": [
        "\n",
        "\n",
        "dogs = 'Bubi'\n",
        "dogs"
      ],
      "execution_count": null,
      "outputs": []
    },
    {
      "cell_type": "code",
      "metadata": {
        "jupyter": {
          "outputs_hidden": false
        },
        "pycharm": {
          "name": "#%%\n"
        },
        "id": "bcs60ekaHprO",
        "outputId": "a1c38c8e-a5d2-4252-c19b-3a80f05c6b57"
      },
      "source": [
        "dogs = ['Bubi' , 'Pupi']\n",
        "print(dogs)\n"
      ],
      "execution_count": null,
      "outputs": [
        {
          "output_type": "stream",
          "text": [
            "['Bubi', 'Pupi']\n"
          ],
          "name": "stdout"
        }
      ]
    },
    {
      "cell_type": "markdown",
      "metadata": {
        "pycharm": {
          "name": "#%% md\n"
        },
        "id": "aT87dRfyHprS"
      },
      "source": [
        "## בדיקת סוג משתנה\n",
        "\n",
        "* **int** (for integer)\n",
        "* **float**\n",
        "* **str** (for string)\n",
        "* **list**\n",
        "* **tuple**\n",
        "* **dict** (for dictionary)\n",
        "* **set**\n",
        "* **bool** (for Boolean True/False)"
      ]
    },
    {
      "cell_type": "code",
      "metadata": {
        "jupyter": {
          "outputs_hidden": false
        },
        "pycharm": {
          "name": "#%%\n"
        },
        "id": "-AFTABdEHprT",
        "outputId": "4194eff5-5753-4563-cfd6-eb230c338f19"
      },
      "source": [
        "# To avoid bugs check type()\n",
        "\n",
        "print(type(dogs))\n",
        "# כעת תבדקו את הקודמים"
      ],
      "execution_count": null,
      "outputs": [
        {
          "output_type": "stream",
          "text": [
            "<class 'list'>\n"
          ],
          "name": "stdout"
        }
      ]
    },
    {
      "cell_type": "markdown",
      "metadata": {
        "id": "CaL-ZA4lHprX"
      },
      "source": [
        "## = אופרטור השמה"
      ]
    },
    {
      "cell_type": "code",
      "metadata": {
        "jupyter": {
          "outputs_hidden": false
        },
        "pycharm": {
          "name": "#%%\n"
        },
        "id": "Cx1Ouc45HprX",
        "outputId": "b143713f-3bd7-4859-c62b-ae8e6c64b3f6"
      },
      "source": [
        "a = 5\n",
        "a"
      ],
      "execution_count": null,
      "outputs": [
        {
          "output_type": "execute_result",
          "data": {
            "text/plain": [
              "5"
            ]
          },
          "metadata": {
            "tags": []
          },
          "execution_count": 20
        }
      ]
    },
    {
      "cell_type": "code",
      "metadata": {
        "jupyter": {
          "outputs_hidden": false
        },
        "pycharm": {
          "name": "#%%\n"
        },
        "id": "XK8Lpp4NHprZ"
      },
      "source": [
        "a = a+10"
      ],
      "execution_count": null,
      "outputs": []
    },
    {
      "cell_type": "code",
      "metadata": {
        "jupyter": {
          "outputs_hidden": false
        },
        "pycharm": {
          "name": "#%%\n"
        },
        "id": "tzZxO_cIHprc",
        "outputId": "c2c8c1ea-98a1-4818-e51c-3ad09255b5ea"
      },
      "source": [
        "a +=1\n",
        "a"
      ],
      "execution_count": null,
      "outputs": [
        {
          "output_type": "execute_result",
          "data": {
            "text/plain": [
              "16"
            ]
          },
          "metadata": {
            "tags": []
          },
          "execution_count": 22
        }
      ]
    },
    {
      "cell_type": "code",
      "metadata": {
        "jupyter": {
          "outputs_hidden": false
        },
        "pycharm": {
          "name": "#%%\n"
        },
        "id": "5meKqsC9Hpre"
      },
      "source": [
        "a +=1\n",
        "a"
      ],
      "execution_count": null,
      "outputs": []
    },
    {
      "cell_type": "code",
      "metadata": {
        "jupyter": {
          "outputs_hidden": false
        },
        "pycharm": {
          "name": "#%%\n"
        },
        "id": "uHvGMKswHprh"
      },
      "source": [
        "a +=1\n",
        "a"
      ],
      "execution_count": null,
      "outputs": []
    },
    {
      "cell_type": "code",
      "metadata": {
        "jupyter": {
          "outputs_hidden": false
        },
        "pycharm": {
          "name": "#%%\n"
        },
        "id": "ytf7uqRbHprl",
        "outputId": "e4728d8d-6378-441b-d2aa-4731ba7fd4c2"
      },
      "source": [
        "a=2\n",
        "a *=3\n",
        "a"
      ],
      "execution_count": null,
      "outputs": [
        {
          "output_type": "execute_result",
          "data": {
            "text/plain": [
              "6"
            ]
          },
          "metadata": {
            "tags": []
          },
          "execution_count": 25
        }
      ]
    },
    {
      "cell_type": "code",
      "metadata": {
        "jupyter": {
          "outputs_hidden": false
        },
        "pycharm": {
          "name": "#%%\n"
        },
        "id": "sifskOXHHprq",
        "outputId": "88914dcf-ba8c-46a9-a50f-58f2369d4128"
      },
      "source": [
        "# Check variable type\n",
        "\n",
        "type(a)"
      ],
      "execution_count": null,
      "outputs": [
        {
          "output_type": "execute_result",
          "data": {
            "text/plain": [
              "int"
            ]
          },
          "metadata": {
            "tags": []
          },
          "execution_count": 26
        }
      ]
    },
    {
      "cell_type": "code",
      "metadata": {
        "jupyter": {
          "outputs_hidden": false
        },
        "pycharm": {
          "name": "#%%\n"
        },
        "id": "sW5xcwOGHpru",
        "outputId": "c76e13cc-0535-451d-c5e3-2a269b95fec2"
      },
      "source": [
        "a=(3,4)\n",
        "a\n",
        "type(a)\n",
        "\n",
        "'''\n",
        "\n",
        "A tuple is a collection of objects which ordered\n",
        "and immutable. Tuples are sequences, just like lists.\n",
        "The differences between tuples and lists are, the tuples\n",
        "cannot be changed unlike lists and tuples use parentheses,\n",
        "whereas lists use square brackets.\n",
        "https://www.tutorialspoint.com/python/python_tuples.htm#:~:text=A%20tuple%20is%20a%20collection,whereas%20lists%20use%20square%20brackets\n",
        "\n",
        "'''"
      ],
      "execution_count": null,
      "outputs": [
        {
          "output_type": "execute_result",
          "data": {
            "text/plain": [
              "tuple"
            ]
          },
          "metadata": {
            "tags": []
          },
          "execution_count": 27
        }
      ]
    },
    {
      "cell_type": "markdown",
      "metadata": {
        "id": "6vgGhCmdHprx"
      },
      "source": [
        "##מחרוזות - Strings\n",
        "\n",
        "* Text\n",
        "* Sequence\n",
        "\n",
        "ליצירת מחרוזת נשתמש בגרשיים"
      ]
    },
    {
      "cell_type": "code",
      "metadata": {
        "jupyter": {
          "outputs_hidden": false
        },
        "pycharm": {
          "name": "#%%\n"
        },
        "id": "hCN-8-6eHpry",
        "outputId": "f1007701-364b-4285-fe8a-65ec7e460640"
      },
      "source": [
        "'Hi'"
      ],
      "execution_count": null,
      "outputs": [
        {
          "output_type": "execute_result",
          "data": {
            "text/plain": [
              "'Hi'"
            ]
          },
          "metadata": {
            "tags": []
          },
          "execution_count": 28
        }
      ]
    },
    {
      "cell_type": "code",
      "metadata": {
        "jupyter": {
          "outputs_hidden": false
        },
        "pycharm": {
          "name": "#%%\n"
        },
        "id": "8dqeBicPHpr0",
        "outputId": "a45696c5-34a2-49cd-9d1c-243164e08333"
      },
      "source": [
        "Hi"
      ],
      "execution_count": null,
      "outputs": [
        {
          "output_type": "error",
          "ename": "NameError",
          "evalue": "name 'Hi' is not defined",
          "traceback": [
            "\u001b[1;31m---------------------------------------------------------------------------\u001b[0m",
            "\u001b[1;31mNameError\u001b[0m                                 Traceback (most recent call last)",
            "\u001b[1;32m<ipython-input-54-0c1bc52c5001>\u001b[0m in \u001b[0;36m<module>\u001b[1;34m\u001b[0m\n\u001b[1;32m----> 1\u001b[1;33m \u001b[0mHi\u001b[0m\u001b[1;33m\u001b[0m\u001b[1;33m\u001b[0m\u001b[0m\n\u001b[0m",
            "\u001b[1;31mNameError\u001b[0m: name 'Hi' is not defined"
          ]
        }
      ]
    },
    {
      "cell_type": "code",
      "metadata": {
        "jupyter": {
          "outputs_hidden": false
        },
        "pycharm": {
          "name": "#%%\n"
        },
        "id": "HXtEFkJ2Hpr8"
      },
      "source": [
        "a = 'Hi'\n",
        "a"
      ],
      "execution_count": null,
      "outputs": []
    },
    {
      "cell_type": "code",
      "metadata": {
        "jupyter": {
          "outputs_hidden": false
        },
        "pycharm": {
          "name": "#%%\n"
        },
        "id": "sLo29PicHpsD"
      },
      "source": [
        "a = Hi\n",
        "a"
      ],
      "execution_count": null,
      "outputs": []
    },
    {
      "cell_type": "code",
      "metadata": {
        "jupyter": {
          "outputs_hidden": false
        },
        "pycharm": {
          "name": "#%%\n"
        },
        "id": "y_8Lc6k9HpsF"
      },
      "source": [
        "print(a)"
      ],
      "execution_count": null,
      "outputs": []
    },
    {
      "cell_type": "code",
      "metadata": {
        "jupyter": {
          "outputs_hidden": false
        },
        "pycharm": {
          "name": "#%%\n"
        },
        "id": "djb9vg-fHpsJ"
      },
      "source": [
        "a = 'How are you?'\n",
        "print(a)"
      ],
      "execution_count": null,
      "outputs": []
    },
    {
      "cell_type": "code",
      "metadata": {
        "jupyter": {
          "outputs_hidden": false
        },
        "pycharm": {
          "name": "#%%\n"
        },
        "id": "uj0SXsQKHpsL"
      },
      "source": [
        "a = \"TV is good!\"\n",
        "print(a)"
      ],
      "execution_count": null,
      "outputs": []
    },
    {
      "cell_type": "code",
      "metadata": {
        "jupyter": {
          "outputs_hidden": false
        },
        "pycharm": {
          "name": "#%%\n"
        },
        "id": "IcUH6NvtHpsN"
      },
      "source": [
        "a = '''I love python'''\n",
        "print(a)"
      ],
      "execution_count": null,
      "outputs": []
    },
    {
      "cell_type": "code",
      "metadata": {
        "jupyter": {
          "outputs_hidden": false
        },
        "pycharm": {
          "name": "#%%\n"
        },
        "id": "DB0_ejmjHpsP"
      },
      "source": [
        "a = 'I'm happy'\n",
        "print(a)"
      ],
      "execution_count": null,
      "outputs": []
    },
    {
      "cell_type": "code",
      "metadata": {
        "jupyter": {
          "outputs_hidden": false
        },
        "pycharm": {
          "name": "#%%\n"
        },
        "id": "eISRRyzTHpsR"
      },
      "source": [
        "a = \"I'm happy\"\n",
        "print(a)"
      ],
      "execution_count": null,
      "outputs": []
    },
    {
      "cell_type": "code",
      "metadata": {
        "jupyter": {
          "outputs_hidden": false
        },
        "pycharm": {
          "name": "#%%\n"
        },
        "id": "uCeNj-XuHpsT",
        "outputId": "96712f97-b1a4-4560-996a-8f1bb79c00c7"
      },
      "source": [
        "a = 'I love' \\\n",
        "    'Python' \\\n",
        "    '!'\n",
        "\n",
        "print(a)\n",
        "\n",
        "# Correct"
      ],
      "execution_count": null,
      "outputs": [
        {
          "output_type": "stream",
          "text": [
            "I lovePython!\n"
          ],
          "name": "stdout"
        }
      ]
    },
    {
      "cell_type": "code",
      "metadata": {
        "jupyter": {
          "outputs_hidden": false
        },
        "pycharm": {
          "name": "#%%\n"
        },
        "id": "4SzIQE4mHpsX"
      },
      "source": [
        "# Why should we use print()\n",
        "'Hi 1'\n",
        "'Hi 2'\n",
        "\n",
        "# Correct!"
      ],
      "execution_count": null,
      "outputs": []
    },
    {
      "cell_type": "code",
      "metadata": {
        "jupyter": {
          "outputs_hidden": false
        },
        "pycharm": {
          "name": "#%%\n"
        },
        "id": "VgOkqVSzHpsZ"
      },
      "source": [
        "# New line\n",
        "\n",
        "a = 'I love \\n' \\\n",
        "    'Python \\n' \\\n",
        "    '!'\n",
        "\n",
        "print(a)"
      ],
      "execution_count": null,
      "outputs": []
    },
    {
      "cell_type": "code",
      "metadata": {
        "jupyter": {
          "outputs_hidden": false
        },
        "pycharm": {
          "name": "#%%\n"
        },
        "id": "cxh3guNGHpse",
        "outputId": "8cd5d934-2eb0-4aef-f391-c0c75b4342a8"
      },
      "source": [
        "# New line\n",
        "\n",
        "a = 'I love \\nPython \\n!'\n",
        "\n",
        "print(a)\n"
      ],
      "execution_count": null,
      "outputs": [
        {
          "output_type": "stream",
          "text": [
            "I love \n",
            " Python \n",
            "!\n"
          ],
          "name": "stdout"
        }
      ]
    },
    {
      "cell_type": "code",
      "metadata": {
        "jupyter": {
          "outputs_hidden": false
        },
        "pycharm": {
          "name": "#%%\n"
        },
        "id": "eP8gUGrAHpsi"
      },
      "source": [
        "# בדיקת אורך מחרוזת\n",
        "# https://www.programiz.com/python-programming/methods/built-in/len\n",
        "# סופר תווים כולל רווחים וניקוד\n",
        "len('Hello')\n"
      ],
      "execution_count": null,
      "outputs": []
    },
    {
      "cell_type": "markdown",
      "metadata": {
        "id": "nSMdyN66Hpsn"
      },
      "source": [
        "## String Indexing\n",
        "\n",
        "* בפייתון משתמשים ב [] ע''מ לגשת לחלקים במחרוזת\n",
        "\n",
        "* אינדקסציה בפייתון מתחילה מאפס\n"
      ]
    },
    {
      "cell_type": "code",
      "metadata": {
        "jupyter": {
          "outputs_hidden": false
        },
        "pycharm": {
          "name": "#%%\n"
        },
        "id": "tL-LHjkhHpso",
        "outputId": "3f76389f-df5d-4b6c-bed3-c479d4cef9be"
      },
      "source": [
        "a = 'I Love Python:)'\n",
        "a"
      ],
      "execution_count": null,
      "outputs": [
        {
          "output_type": "execute_result",
          "data": {
            "text/plain": [
              "'I Love Python:)'"
            ]
          },
          "metadata": {
            "tags": []
          },
          "execution_count": 78
        }
      ]
    },
    {
      "cell_type": "code",
      "metadata": {
        "jupyter": {
          "outputs_hidden": false
        },
        "pycharm": {
          "name": "#%%\n"
        },
        "id": "yEMVZ4xcHpst"
      },
      "source": [
        "# The first letter\n",
        "a[0]"
      ],
      "execution_count": null,
      "outputs": []
    },
    {
      "cell_type": "code",
      "metadata": {
        "jupyter": {
          "outputs_hidden": false
        },
        "pycharm": {
          "name": "#%%\n"
        },
        "id": "S3DgcxIAHpsw"
      },
      "source": [
        "a[1]\n"
      ],
      "execution_count": null,
      "outputs": []
    },
    {
      "cell_type": "code",
      "metadata": {
        "jupyter": {
          "outputs_hidden": false
        },
        "pycharm": {
          "name": "#%%\n"
        },
        "id": "qtlJaYUsHps3",
        "outputId": "4acdbbd6-f417-4ab7-9276-e21961eb2ae8"
      },
      "source": [
        "# Last letter\n",
        "a[-1]\n"
      ],
      "execution_count": null,
      "outputs": [
        {
          "output_type": "execute_result",
          "data": {
            "text/plain": [
              "')'"
            ]
          },
          "metadata": {
            "tags": []
          },
          "execution_count": 40
        }
      ]
    },
    {
      "cell_type": "code",
      "metadata": {
        "jupyter": {
          "outputs_hidden": false
        },
        "pycharm": {
          "name": "#%%\n"
        },
        "id": "yP6jOueVHps7",
        "outputId": "5423c167-5385-45aa-c3ac-89abbdbe6f7c"
      },
      "source": [
        "print(len(a))"
      ],
      "execution_count": null,
      "outputs": [
        {
          "output_type": "stream",
          "text": [
            "15\n"
          ],
          "name": "stdout"
        }
      ]
    },
    {
      "cell_type": "code",
      "metadata": {
        "jupyter": {
          "outputs_hidden": false
        },
        "pycharm": {
          "name": "#%%\n"
        },
        "id": "vak_0aYrHps8",
        "outputId": "50d84035-f93e-4719-fbf4-976d2bfa1ad2"
      },
      "source": [
        "# Last letter\n",
        "\n",
        "a[len(a)]\n",
        "\n",
        "# Correct. Remember we start with zero index."
      ],
      "execution_count": null,
      "outputs": [
        {
          "output_type": "error",
          "ename": "IndexError",
          "evalue": "string index out of range",
          "traceback": [
            "\u001b[1;31m---------------------------------------------------------------------------\u001b[0m",
            "\u001b[1;31mIndexError\u001b[0m                                Traceback (most recent call last)",
            "\u001b[1;32m<ipython-input-35-8a662d44161a>\u001b[0m in \u001b[0;36m<module>\u001b[1;34m\u001b[0m\n\u001b[0;32m      1\u001b[0m \u001b[1;31m# Last letter\u001b[0m\u001b[1;33m\u001b[0m\u001b[1;33m\u001b[0m\u001b[1;33m\u001b[0m\u001b[0m\n\u001b[0;32m      2\u001b[0m \u001b[1;33m\u001b[0m\u001b[0m\n\u001b[1;32m----> 3\u001b[1;33m \u001b[0ma\u001b[0m\u001b[1;33m[\u001b[0m\u001b[0mlen\u001b[0m\u001b[1;33m(\u001b[0m\u001b[0ma\u001b[0m\u001b[1;33m)\u001b[0m\u001b[1;33m]\u001b[0m\u001b[1;33m\u001b[0m\u001b[1;33m\u001b[0m\u001b[0m\n\u001b[0m",
            "\u001b[1;31mIndexError\u001b[0m: string index out of range"
          ]
        }
      ]
    },
    {
      "cell_type": "markdown",
      "metadata": {
        "pycharm": {
          "name": "#%% md\n"
        },
        "id": "N_lUB7J4HptB"
      },
      "source": [
        "השתמשו ב : ע''מ לבחור מקטעים במחרוזת"
      ]
    },
    {
      "cell_type": "code",
      "metadata": {
        "jupyter": {
          "outputs_hidden": false
        },
        "pycharm": {
          "name": "#%%\n"
        },
        "id": "6GLg5uEGHptB",
        "outputId": "f64ed6f1-d041-4543-ac14-36f5f6d95780"
      },
      "source": [
        "a[:]"
      ],
      "execution_count": null,
      "outputs": [
        {
          "output_type": "execute_result",
          "data": {
            "text/plain": [
              "'I Love Python:)'"
            ]
          },
          "metadata": {
            "tags": []
          },
          "execution_count": 36
        }
      ]
    },
    {
      "cell_type": "code",
      "metadata": {
        "jupyter": {
          "outputs_hidden": false
        },
        "pycharm": {
          "name": "#%%\n"
        },
        "id": "GcbKWrreHptC"
      },
      "source": [
        "a[0:]"
      ],
      "execution_count": null,
      "outputs": []
    },
    {
      "cell_type": "code",
      "metadata": {
        "jupyter": {
          "outputs_hidden": false
        },
        "pycharm": {
          "name": "#%%\n"
        },
        "id": "uhZcG-4wHptE"
      },
      "source": [
        "a[1:]"
      ],
      "execution_count": null,
      "outputs": []
    },
    {
      "cell_type": "code",
      "metadata": {
        "jupyter": {
          "outputs_hidden": false
        },
        "pycharm": {
          "name": "#%%\n"
        },
        "id": "WVFGa5LMHptG",
        "outputId": "48d3e9c7-d077-4bba-f2f2-4c9fb87d1bb2"
      },
      "source": [
        "# Lets get 'I Love'\n",
        "a[:4]\n",
        "\n",
        "# Correct\n"
      ],
      "execution_count": null,
      "outputs": [
        {
          "output_type": "execute_result",
          "data": {
            "text/plain": [
              "'I Lo'"
            ]
          },
          "metadata": {
            "tags": []
          },
          "execution_count": 44
        }
      ]
    },
    {
      "cell_type": "code",
      "metadata": {
        "jupyter": {
          "outputs_hidden": false
        },
        "pycharm": {
          "name": "#%%\n"
        },
        "id": "t2pNykzmHptI",
        "outputId": "1f1cd123-f461-46ce-d77f-0e009293fb7e"
      },
      "source": [
        "# Lets get 'Love'\n",
        "a[2:4]\n",
        "\n",
        "# Correct\n",
        "# The last index is not included\n",
        "# אינדק אחרון בדרך כלל לא כלול כמו פה\n"
      ],
      "execution_count": null,
      "outputs": [
        {
          "output_type": "execute_result",
          "data": {
            "text/plain": [
              "'Lo'"
            ]
          },
          "metadata": {
            "tags": []
          },
          "execution_count": 45
        }
      ]
    },
    {
      "cell_type": "code",
      "metadata": {
        "jupyter": {
          "outputs_hidden": false
        },
        "pycharm": {
          "name": "#%%\n"
        },
        "id": "DSmPQ-ZpHptJ",
        "outputId": "7b2c4f12-7bd4-4714-b967-f833d6a6e8f7"
      },
      "source": [
        "# Use - to go back.\n",
        "\n",
        "a[:-1]"
      ],
      "execution_count": null,
      "outputs": [
        {
          "output_type": "execute_result",
          "data": {
            "text/plain": [
              "'I Love Python:'"
            ]
          },
          "metadata": {
            "tags": []
          },
          "execution_count": 46
        }
      ]
    },
    {
      "cell_type": "code",
      "metadata": {
        "jupyter": {
          "outputs_hidden": false
        },
        "pycharm": {
          "name": "#%%\n"
        },
        "id": "2d8btkvpHptM",
        "outputId": "f0469669-4132-4bfb-d3e2-cf3e7488013e"
      },
      "source": [
        "a[:-2]\n",
        "\n",
        "# Last index not included"
      ],
      "execution_count": null,
      "outputs": [
        {
          "output_type": "execute_result",
          "data": {
            "text/plain": [
              "'I Love Python'"
            ]
          },
          "metadata": {
            "tags": []
          },
          "execution_count": 48
        }
      ]
    },
    {
      "cell_type": "code",
      "metadata": {
        "jupyter": {
          "outputs_hidden": false
        },
        "pycharm": {
          "name": "#%%\n"
        },
        "id": "Yy0ZQhMIHptO",
        "outputId": "2b9852e4-cc09-42a4-f199-924475e31138"
      },
      "source": [
        "# Lets get the smile:)\n",
        "# Use - to go back.\n",
        "\n",
        "a[-2:]\n",
        "\n",
        "# What is the problem? Correct"
      ],
      "execution_count": null,
      "outputs": [
        {
          "output_type": "execute_result",
          "data": {
            "text/plain": [
              "':)'"
            ]
          },
          "metadata": {
            "tags": []
          },
          "execution_count": 80
        }
      ]
    },
    {
      "cell_type": "markdown",
      "metadata": {
        "pycharm": {
          "name": "#%% md\n"
        },
        "id": "2ufy2WAqHptQ"
      },
      "source": [
        "שימוש בצעדים\n",
        "\n",
        "start : end : step"
      ]
    },
    {
      "cell_type": "code",
      "metadata": {
        "jupyter": {
          "outputs_hidden": false
        },
        "pycharm": {
          "name": "#%%\n"
        },
        "id": "4vWqVB2KHptQ",
        "outputId": "4957f8be-455f-410b-80a6-9fe790febc07"
      },
      "source": [
        "a[::1]"
      ],
      "execution_count": null,
      "outputs": [
        {
          "output_type": "execute_result",
          "data": {
            "text/plain": [
              "'I Love Python:)'"
            ]
          },
          "metadata": {
            "tags": []
          },
          "execution_count": 51
        }
      ]
    },
    {
      "cell_type": "code",
      "metadata": {
        "jupyter": {
          "outputs_hidden": false
        },
        "pycharm": {
          "name": "#%%\n"
        },
        "id": "gCjnci9OHptS",
        "outputId": "7c60de46-087f-4f5b-db4c-47ba2d76c376"
      },
      "source": [
        "a[::2]"
      ],
      "execution_count": null,
      "outputs": [
        {
          "output_type": "execute_result",
          "data": {
            "text/plain": [
              "'ILv yhn)'"
            ]
          },
          "metadata": {
            "tags": []
          },
          "execution_count": 52
        }
      ]
    },
    {
      "cell_type": "code",
      "metadata": {
        "jupyter": {
          "outputs_hidden": false
        },
        "pycharm": {
          "name": "#%%\n"
        },
        "id": "KkdbiQZaHptT",
        "outputId": "7fd1a663-5a49-4f97-a8aa-fa70458320aa"
      },
      "source": [
        "# What happens here?\n",
        "a[::-1]"
      ],
      "execution_count": null,
      "outputs": [
        {
          "output_type": "execute_result",
          "data": {
            "text/plain": [
              "'):nohtyP evoL I'"
            ]
          },
          "metadata": {
            "tags": []
          },
          "execution_count": 53
        }
      ]
    },
    {
      "cell_type": "markdown",
      "metadata": {
        "pycharm": {
          "name": "#%% md\n"
        },
        "id": "Ay9PLoP0HptW"
      },
      "source": [
        "## Imutability\n",
        "לאחר יצירת מחרוזת לא ניתן לשנות אותה או להחליף."
      ]
    },
    {
      "cell_type": "code",
      "metadata": {
        "jupyter": {
          "outputs_hidden": false
        },
        "pycharm": {
          "name": "#%%\n"
        },
        "id": "B2G_P1wSHptW",
        "outputId": "30eae06d-89c0-4e8a-921a-0ace0e162757"
      },
      "source": [
        "a = 'Hello'\n",
        "a"
      ],
      "execution_count": null,
      "outputs": [
        {
          "output_type": "execute_result",
          "data": {
            "text/plain": [
              "'Hello'"
            ]
          },
          "metadata": {
            "tags": []
          },
          "execution_count": 55
        }
      ]
    },
    {
      "cell_type": "code",
      "metadata": {
        "jupyter": {
          "outputs_hidden": false
        },
        "pycharm": {
          "name": "#%%\n"
        },
        "id": "PpwNtBOpHptY"
      },
      "source": [
        "a[0] = 'A'"
      ],
      "execution_count": null,
      "outputs": []
    },
    {
      "cell_type": "markdown",
      "metadata": {
        "id": "3LTJR-zHHpta"
      },
      "source": [
        "שירשור מחרוזות\n",
        "Concatenate strings\n"
      ]
    },
    {
      "cell_type": "code",
      "metadata": {
        "jupyter": {
          "outputs_hidden": false
        },
        "pycharm": {
          "name": "#%%\n"
        },
        "id": "KRlPd7SFHptb",
        "outputId": "d4364270-ad38-470a-ef2d-e9dd1508b414"
      },
      "source": [
        "a\n",
        "b = a + ' Bob'\n",
        "print(b)"
      ],
      "execution_count": null,
      "outputs": [
        {
          "output_type": "stream",
          "text": [
            "Hello Bob\n"
          ],
          "name": "stdout"
        }
      ]
    },
    {
      "cell_type": "code",
      "metadata": {
        "jupyter": {
          "outputs_hidden": false
        },
        "pycharm": {
          "name": "#%%\n"
        },
        "id": "P3Co4SH8Hptk"
      },
      "source": [
        "c = :)\n",
        "d = b + c\n",
        "print(d)\n",
        "\n",
        "# Correct"
      ],
      "execution_count": null,
      "outputs": []
    },
    {
      "cell_type": "code",
      "metadata": {
        "jupyter": {
          "outputs_hidden": false
        },
        "pycharm": {
          "name": "#%%\n"
        },
        "id": "SQE837z4Hpto",
        "outputId": "d3b70154-c3fd-48ac-d5fa-e01610e703f7"
      },
      "source": [
        "c = ':)'\n",
        "b = b + c\n",
        "print(b)"
      ],
      "execution_count": null,
      "outputs": [
        {
          "output_type": "stream",
          "text": [
            "Hello Bob:)\n"
          ],
          "name": "stdout"
        }
      ]
    },
    {
      "cell_type": "code",
      "metadata": {
        "jupyter": {
          "outputs_hidden": false
        },
        "pycharm": {
          "name": "#%%\n"
        },
        "id": "W93y9_bZHptr",
        "outputId": "c0f97299-91b0-4705-88d2-7ff77ee95251"
      },
      "source": [
        "# Repetition - שכפול\n",
        "\n",
        "a = 'Hi'\n",
        "b = a * 10\n",
        "print(b)\n",
        "# Add space now\n"
      ],
      "execution_count": null,
      "outputs": [
        {
          "output_type": "stream",
          "text": [
            "HiHiHiHiHiHiHiHiHiHi\n"
          ],
          "name": "stdout"
        }
      ]
    },
    {
      "cell_type": "markdown",
      "metadata": {
        "id": "kIgFYjRKHptx"
      },
      "source": [
        "##Object Methods\n",
        "\n",
        "אוביקטים כוללים מתודות שיכולות לפעול על האוביקט.\n",
        "Objects has built-in methods (functions).\n",
        "that Can perform actions on the object.\n",
        "\n",
        "קוראים למתודות בעזרת נקודה ושם מתודה. לדוגמא:\n",
        "\n",
        "object.method(parameters)\n"
      ]
    },
    {
      "cell_type": "code",
      "metadata": {
        "jupyter": {
          "outputs_hidden": false
        },
        "pycharm": {
          "name": "#%%\n"
        },
        "id": "nVms2v0lHpty"
      },
      "source": [
        "a = 'Hello'"
      ],
      "execution_count": null,
      "outputs": []
    },
    {
      "cell_type": "code",
      "metadata": {
        "jupyter": {
          "outputs_hidden": false
        },
        "pycharm": {
          "name": "#%%\n"
        },
        "id": "0VhRWIbKHpt5",
        "outputId": "d2def486-5b84-414a-b3cd-c8156c9f2e54"
      },
      "source": [
        "a.upper()"
      ],
      "execution_count": null,
      "outputs": [
        {
          "output_type": "execute_result",
          "data": {
            "text/plain": [
              "'HELLO'"
            ]
          },
          "metadata": {
            "tags": []
          },
          "execution_count": 63
        }
      ]
    },
    {
      "cell_type": "code",
      "metadata": {
        "jupyter": {
          "outputs_hidden": false
        },
        "pycharm": {
          "name": "#%%\n"
        },
        "id": "VzC3GGQZHpt9",
        "outputId": "efdd0368-10b9-4aed-823c-8c808a31a154"
      },
      "source": [
        "print(a)\n",
        "a = a.upper()\n",
        "# print(a)"
      ],
      "execution_count": null,
      "outputs": [
        {
          "output_type": "stream",
          "text": [
            "HELLO\n"
          ],
          "name": "stdout"
        }
      ]
    },
    {
      "cell_type": "code",
      "metadata": {
        "jupyter": {
          "outputs_hidden": false
        },
        "pycharm": {
          "name": "#%%\n"
        },
        "id": "DSGxQeHtHpt_"
      },
      "source": [
        "print(a)\n",
        "a = a.lower()\n",
        "# print(a)"
      ],
      "execution_count": null,
      "outputs": []
    },
    {
      "cell_type": "code",
      "metadata": {
        "jupyter": {
          "outputs_hidden": false
        },
        "pycharm": {
          "name": "#%%\n"
        },
        "id": "4o3yfqpfHpuC",
        "outputId": "af0f566c-e5b0-4065-a0d7-750213774ee1"
      },
      "source": [
        "# פיצול מחרוזת לפי רווח\n",
        "\n",
        "a= 'Hello World'\n",
        "print(a)\n",
        "print(type(a))\n",
        "b = a.split()\n",
        "print(b)\n",
        "type(b)"
      ],
      "execution_count": null,
      "outputs": [
        {
          "output_type": "stream",
          "text": [
            "Hello World\n",
            "<class 'str'>\n",
            "['Hello', 'World']\n"
          ],
          "name": "stdout"
        },
        {
          "output_type": "execute_result",
          "data": {
            "text/plain": [
              "list"
            ]
          },
          "metadata": {
            "tags": []
          },
          "execution_count": 75
        }
      ]
    },
    {
      "cell_type": "code",
      "metadata": {
        "jupyter": {
          "outputs_hidden": false
        },
        "pycharm": {
          "name": "#%%\n"
        },
        "id": "IgMnBrkCHpuF",
        "outputId": "fa7412e0-f7f7-49d6-c9d5-22cdc8b1b293"
      },
      "source": [
        "a\n",
        "a.split('o')\n"
      ],
      "execution_count": null,
      "outputs": [
        {
          "output_type": "execute_result",
          "data": {
            "text/plain": [
              "['Hell', ' W', 'rld']"
            ]
          },
          "metadata": {
            "tags": []
          },
          "execution_count": 76
        }
      ]
    },
    {
      "cell_type": "code",
      "metadata": {
        "jupyter": {
          "outputs_hidden": false
        },
        "pycharm": {
          "name": "#%%\n"
        },
        "id": "9HSMWoA5HpuI",
        "outputId": "d36f8f80-fe9b-4952-c0b1-4b9aa6612b1b"
      },
      "source": [
        "# מה זה עושה?\n",
        "\n",
        "'Insert in brackets = {}'.format('Hello!')"
      ],
      "execution_count": null,
      "outputs": [
        {
          "output_type": "execute_result",
          "data": {
            "text/plain": [
              "'Insert in brackets = Hello!'"
            ]
          },
          "metadata": {
            "tags": []
          },
          "execution_count": 77
        }
      ]
    }
  ]
}