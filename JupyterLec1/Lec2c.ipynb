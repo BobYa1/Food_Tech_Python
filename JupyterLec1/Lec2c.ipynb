{
  "nbformat": 4,
  "nbformat_minor": 0,
  "metadata": {
    "kernelspec": {
      "display_name": "Python 3",
      "language": "python",
      "name": "python3"
    },
    "language_info": {
      "codemirror_mode": {
        "name": "ipython",
        "version": 3
      },
      "file_extension": ".py",
      "mimetype": "text/x-python",
      "name": "python",
      "nbconvert_exporter": "python",
      "pygments_lexer": "ipython3",
      "version": "3.7.7"
    },
    "colab": {
      "name": "Lec2a.ipynb",
      "provenance": [],
      "collapsed_sections": []
    }
  },
  "cells": [
    {
      "cell_type": "markdown",
      "metadata": {
        "pycharm": {
          "name": "#%% md\n"
        },
        "id": "myfd_z94Hppg"
      },
      "source": [
        "## סוגי מספריים בפייתון\n",
        "\n",
        "(1) Integers\n",
        "\n",
        "(2) Floating point\n",
        "\n"
      ]
    },
    {
      "cell_type": "markdown",
      "metadata": {
        "id": "CQhrxhdKHppi"
      },
      "source": [
        "<table>\n",
        "<tr>\n",
        "    <th>דוגמאות</th>\n",
        "    <th>Number \"Type\"</th>\n",
        "</tr>\n",
        "\n",
        "<tr>\n",
        "    <td>1,2,-3,10000</td>\n",
        "    <td>Integers</td>\n",
        "</tr>\n",
        "\n",
        "<tr>\n",
        "    <td>1.3,-0.7,2e3,4E2</td>\n",
        "    <td>Floating-point numbers</td>\n",
        "</tr>\n",
        " </table>"
      ]
    },
    {
      "cell_type": "markdown",
      "metadata": {
        "id": "rTbKj4IcHppo"
      },
      "source": [
        "### חישובים פשוטים - מחשבון\n"
      ]
    },
    {
      "cell_type": "code",
      "metadata": {
        "jupyter": {
          "outputs_hidden": false
        },
        "pycharm": {
          "name": "#%%\n"
        },
        "id": "os8ccQ6GHppp",
        "outputId": "a823c9d8-c75d-4899-fe09-a7a69adeefbe",
        "colab": {
          "base_uri": "https://localhost:8080/"
        }
      },
      "source": [
        "#חיבור\n",
        "\n",
        "4+7"
      ],
      "execution_count": null,
      "outputs": [
        {
          "output_type": "execute_result",
          "data": {
            "text/plain": [
              "11"
            ]
          },
          "metadata": {
            "tags": []
          },
          "execution_count": 4
        }
      ]
    },
    {
      "cell_type": "code",
      "metadata": {
        "jupyter": {
          "outputs_hidden": false
        },
        "pycharm": {
          "name": "#%%\n"
        },
        "id": "qVEPV3-kHpp0",
        "outputId": "955fa13b-77b5-4bc0-f798-833c72cab79d",
        "colab": {
          "base_uri": "https://localhost:8080/"
        }
      },
      "source": [
        "#חיסור\n",
        "\n",
        "50-2"
      ],
      "execution_count": null,
      "outputs": [
        {
          "output_type": "execute_result",
          "data": {
            "text/plain": [
              "48"
            ]
          },
          "metadata": {
            "tags": []
          },
          "execution_count": 5
        }
      ]
    },
    {
      "cell_type": "code",
      "metadata": {
        "jupyter": {
          "outputs_hidden": false
        },
        "pycharm": {
          "name": "#%%\n"
        },
        "id": "CXcayzouHpp5"
      },
      "source": [
        "# כפל\n",
        "\n",
        "3*8\n"
      ],
      "execution_count": null,
      "outputs": []
    },
    {
      "cell_type": "code",
      "metadata": {
        "jupyter": {
          "outputs_hidden": false
        },
        "pycharm": {
          "name": "#%%\n"
        },
        "id": "BPUeGaTLHpp9",
        "outputId": "d9886c6e-2a5f-4c48-c7df-97e8aa7d7510",
        "colab": {
          "base_uri": "https://localhost:8080/"
        }
      },
      "source": [
        "# חלוקה\n",
        "\n",
        "print(44/2)\n",
        "\n",
        "print(45/2)"
      ],
      "execution_count": null,
      "outputs": [
        {
          "output_type": "stream",
          "text": [
            "22.0\n",
            "22.5\n"
          ],
          "name": "stdout"
        }
      ]
    },
    {
      "cell_type": "code",
      "metadata": {
        "jupyter": {
          "outputs_hidden": false
        },
        "pycharm": {
          "name": "#%%\n"
        },
        "id": "BXZi0obWHpqA",
        "outputId": "eaf3e13c-8db4-4a0c-c12d-063d6c630b19",
        "colab": {
          "base_uri": "https://localhost:8080/"
        }
      },
      "source": [
        "# Floor Division - מחלק\n",
        "6//4"
      ],
      "execution_count": null,
      "outputs": [
        {
          "output_type": "execute_result",
          "data": {
            "text/plain": [
              "1"
            ]
          },
          "metadata": {
            "tags": []
          },
          "execution_count": 12
        }
      ]
    },
    {
      "cell_type": "code",
      "metadata": {
        "jupyter": {
          "outputs_hidden": false
        },
        "pycharm": {
          "name": "#%%\n"
        },
        "id": "_XSXuxwtHpqD",
        "outputId": "0727fcc1-0953-41ba-bc3e-a86aa2f6ed0a",
        "colab": {
          "base_uri": "https://localhost:8080/"
        }
      },
      "source": [
        "# Modulo - שארית\n",
        "\n",
        "print(6%4)\n",
        "\n",
        "print(6%2)\n",
        "\n",
        "print(7%2)"
      ],
      "execution_count": null,
      "outputs": [
        {
          "output_type": "stream",
          "text": [
            "2\n",
            "0\n",
            "1\n"
          ],
          "name": "stdout"
        }
      ]
    },
    {
      "cell_type": "code",
      "metadata": {
        "jupyter": {
          "outputs_hidden": false
        },
        "pycharm": {
          "name": "#%%\n"
        },
        "id": "tHdYuDjSHpqG",
        "outputId": "edec7a72-a56e-4bab-b561-173b08728c36",
        "colab": {
          "base_uri": "https://localhost:8080/"
        }
      },
      "source": [
        "# חזקה\n",
        "\n",
        "print(5**2)\n",
        "\n",
        "print(5**4)\n"
      ],
      "execution_count": null,
      "outputs": [
        {
          "output_type": "stream",
          "text": [
            "25\n",
            "625\n"
          ],
          "name": "stdout"
        }
      ]
    },
    {
      "cell_type": "code",
      "metadata": {
        "jupyter": {
          "outputs_hidden": false
        },
        "pycharm": {
          "name": "#%%\n"
        },
        "id": "eLgfeDX9HpqK",
        "outputId": "dd96eab5-3365-4654-90d5-3def2b962b62",
        "colab": {
          "base_uri": "https://localhost:8080/"
        }
      },
      "source": [
        "# שורש\n",
        "\n",
        "print(4**0.5)\n",
        "\n",
        "# https://www.tutorialspoint.com/python/number_sqrt.htm\n",
        "# try\n",
        "\n",
        "import math\n",
        "print(math.sqrt(99))"
      ],
      "execution_count": null,
      "outputs": [
        {
          "output_type": "stream",
          "text": [
            "2.0\n",
            "9.9498743710662\n"
          ],
          "name": "stdout"
        }
      ]
    },
    {
      "cell_type": "code",
      "metadata": {
        "jupyter": {
          "outputs_hidden": false
        },
        "pycharm": {
          "name": "#%%\n"
        },
        "id": "5fj53japHpqM",
        "outputId": "2e9dbb43-1f40-4b48-888b-986cbb3308b8",
        "colab": {
          "base_uri": "https://localhost:8080/"
        }
      },
      "source": [
        "# סדר פעולות\n",
        "\n",
        "print(4+3*3+1)\n",
        "\n",
        "print((4+3)*(3+1))\n",
        "\n",
        "print((55+7*9)+4*8)"
      ],
      "execution_count": null,
      "outputs": [
        {
          "output_type": "stream",
          "text": [
            "14\n",
            "28\n",
            "150\n"
          ],
          "name": "stdout"
        }
      ]
    },
    {
      "cell_type": "markdown",
      "metadata": {
        "pycharm": {
          "name": "#%% md\n"
        },
        "id": "6EFS7QuPHpqO"
      },
      "source": [
        "## Indentation\n",
        "הֲזָחָה (או אִינְדֶּנְטַצְיָה, על פי המקור הלועזי) היא הרחקה של שורה כתובה מהשוליים. הזחה נהוגה בדפוס ובתכנות מחשבים."
      ]
    },
    {
      "cell_type": "code",
      "metadata": {
        "pycharm": {
          "name": "#%%\n"
        },
        "id": "Bzkf6Cm2HpqP"
      },
      "source": [
        "print(4+3*3+1)\n",
        "\n",
        " print((4+3)*(3+1))"
      ],
      "execution_count": null,
      "outputs": []
    },
    {
      "cell_type": "code",
      "metadata": {
        "id": "9DHTTXn2HpqS",
        "outputId": "408c7993-b883-4cc1-d7e1-0d549c538222"
      },
      "source": [
        "## הגדרת משתנים"
      ],
      "execution_count": null,
      "outputs": [
        {
          "output_type": "error",
          "ename": "IndentationError",
          "evalue": "unexpected indent (<ipython-input-2-5c0d67ea9733>, line 3)",
          "traceback": [
            "\u001b[1;36m  File \u001b[1;32m\"<ipython-input-2-5c0d67ea9733>\"\u001b[1;36m, line \u001b[1;32m3\u001b[0m\n\u001b[1;33m    print((4+3)*(3+1))\u001b[0m\n\u001b[1;37m    ^\u001b[0m\n\u001b[1;31mIndentationError\u001b[0m\u001b[1;31m:\u001b[0m unexpected indent\n"
          ]
        }
      ]
    },
    {
      "cell_type": "markdown",
      "metadata": {
        "id": "1OBZlDOiHpqe"
      },
      "source": [
        "## הגדרת משתנים"
      ]
    },
    {
      "cell_type": "code",
      "metadata": {
        "id": "8bgWh8s2WYBB",
        "outputId": "f82f08fa-e0c0-4071-9e60-4a1cf9438788",
        "colab": {
          "base_uri": "https://localhost:8080/"
        }
      },
      "source": [
        "print(0.1+0.2)\n",
        "\n",
        "print(0.1+0.3)\n",
        "\n",
        "print(0.1+0.2-0.3)\n",
        "\n",
        "print(0.1+0.1-0.2)"
      ],
      "execution_count": null,
      "outputs": [
        {
          "output_type": "stream",
          "text": [
            "0.30000000000000004\n",
            "0.4\n",
            "5.551115123125783e-17\n",
            "0.0\n"
          ],
          "name": "stdout"
        }
      ]
    },
    {
      "cell_type": "code",
      "metadata": {
        "jupyter": {
          "outputs_hidden": false
        },
        "pycharm": {
          "name": "#%%\n"
        },
        "id": "09mcs1lsHpqf",
        "outputId": "203cbfc8-39ba-466b-dd08-759a382d7b87"
      },
      "source": [
        "b=4\n",
        "\n",
        "print(b)"
      ],
      "execution_count": null,
      "outputs": [
        {
          "output_type": "stream",
          "text": [
            "4\n"
          ],
          "name": "stdout"
        }
      ]
    },
    {
      "cell_type": "code",
      "metadata": {
        "jupyter": {
          "outputs_hidden": false
        },
        "pycharm": {
          "name": "#%%\n"
        },
        "id": "WwQ77uVdHpqm",
        "outputId": "157ecce6-0c4c-43ad-cc1f-67fcb9453f8c"
      },
      "source": [
        "b+b"
      ],
      "execution_count": null,
      "outputs": [
        {
          "output_type": "execute_result",
          "data": {
            "text/plain": [
              "8"
            ]
          },
          "metadata": {
            "tags": []
          },
          "execution_count": 9
        }
      ]
    },
    {
      "cell_type": "code",
      "metadata": {
        "jupyter": {
          "outputs_hidden": false
        },
        "pycharm": {
          "name": "#%%\n"
        },
        "id": "eRInffEKHpqr"
      },
      "source": [
        "b+B"
      ],
      "execution_count": null,
      "outputs": []
    },
    {
      "cell_type": "code",
      "metadata": {
        "jupyter": {
          "outputs_hidden": false
        },
        "pycharm": {
          "name": "#%%\n"
        },
        "id": "lUmw2MLxHpqv"
      },
      "source": [
        "b=32\n",
        "print(b)\n",
        "b"
      ],
      "execution_count": null,
      "outputs": []
    },
    {
      "cell_type": "code",
      "metadata": {
        "jupyter": {
          "outputs_hidden": false
        },
        "pycharm": {
          "name": "#%%\n"
        },
        "id": "9RQSCVVPHpqz"
      },
      "source": [
        "b\n",
        "b=b+b\n",
        "b\n",
        "\n"
      ],
      "execution_count": null,
      "outputs": []
    },
    {
      "cell_type": "markdown",
      "metadata": {
        "id": "hzFHisDCHpq3"
      },
      "source": [
        "## כללים\n",
        "\n",
        "(1) שם משתנה לא יתחיל עם מספר\n",
        "\n",
        "(2) שם משתנה לא יכלול רווחים במקומם נשתמש בקו תחתון _.\n",
        "\n",
        "(3) שמות משתנים באנגלית באותיות קטנות.\n",
        "\n",
        "(4) אסור להשתמש בסימנים הבאים בשמות משתנים: '\",<>/?|\\()!@#$%^&*~-+\n",
        "\n",
        "(5) לא נשתמש ב l, o, I\n",
        "\n",
        "(6) יש להימנע ממתן שמות שהם פקודות מיוחד בפיתון, כמו למשל str"
      ]
    },
    {
      "cell_type": "code",
      "metadata": {
        "jupyter": {
          "outputs_hidden": false
        },
        "pycharm": {
          "name": "#%%\n"
        },
        "id": "OsGxFXBXHpq4",
        "outputId": "4e5ae0a1-ee6b-4c4c-d100-d49556974192"
      },
      "source": [
        "my_income = 90\n",
        "\n",
        "tax_rate = 0.2\n",
        "\n",
        "my_taxes = my_income*tax_rate\n",
        "\n",
        "my_taxes\n"
      ],
      "execution_count": null,
      "outputs": [
        {
          "output_type": "execute_result",
          "data": {
            "text/plain": [
              "18.0"
            ]
          },
          "metadata": {
            "tags": []
          },
          "execution_count": 13
        }
      ]
    },
    {
      "cell_type": "markdown",
      "metadata": {
        "id": "h6KLIQIeHprA"
      },
      "source": [
        "## Dynamic typing"
      ]
    },
    {
      "cell_type": "code",
      "metadata": {
        "jupyter": {
          "outputs_hidden": false
        },
        "pycharm": {
          "name": "#%%\n"
        },
        "id": "ix_vfXuGHprB"
      },
      "source": [
        "dogs = 3\n",
        "dogs"
      ],
      "execution_count": null,
      "outputs": []
    },
    {
      "cell_type": "code",
      "metadata": {
        "jupyter": {
          "outputs_hidden": false
        },
        "pycharm": {
          "name": "#%%\n"
        },
        "id": "PeJ9W7ToHprF"
      },
      "source": [
        "\n",
        "\n",
        "dogs = 'Bubi'\n",
        "dogs"
      ],
      "execution_count": null,
      "outputs": []
    },
    {
      "cell_type": "code",
      "metadata": {
        "jupyter": {
          "outputs_hidden": false
        },
        "pycharm": {
          "name": "#%%\n"
        },
        "id": "bcs60ekaHprO",
        "outputId": "a1c38c8e-a5d2-4252-c19b-3a80f05c6b57"
      },
      "source": [
        "dogs = ['Bubi' , 'Pupi'] # List - רצף מסודר של אוביקטים  https://www.w3schools.com/python/python_lists.asp\n",
        "print(dogs)\n"
      ],
      "execution_count": null,
      "outputs": [
        {
          "output_type": "stream",
          "text": [
            "['Bubi', 'Pupi']\n"
          ],
          "name": "stdout"
        }
      ]
    },
    {
      "cell_type": "markdown",
      "metadata": {
        "pycharm": {
          "name": "#%% md\n"
        },
        "id": "aT87dRfyHprS"
      },
      "source": [
        "## בדיקת סוג משתנה\n",
        "\n",
        "* **int** (for integer)\n",
        "* **float**\n",
        "* **str** (for string)\n",
        "* **list**\n",
        "* **tuple**\n",
        "* **dict** (for dictionary)\n",
        "* **set**\n",
        "* **bool** (for Boolean True/False)"
      ]
    },
    {
      "cell_type": "markdown",
      "metadata": {
        "id": "ljykdIyeq1hP"
      },
      "source": [
        "![image_2020-11-15_225959.png](data:image/png;base64,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)"
      ]
    },
    {
      "cell_type": "code",
      "metadata": {
        "jupyter": {
          "outputs_hidden": false
        },
        "pycharm": {
          "name": "#%%\n"
        },
        "id": "-AFTABdEHprT",
        "outputId": "e7a73735-988b-494f-eec2-ea8b00227b80",
        "colab": {
          "base_uri": "https://localhost:8080/",
          "height": 218
        }
      },
      "source": [
        "# To avoid bugs check type()\n",
        "\n",
        "print(type(dogs))\n",
        "# כעת תבדקו את הקודמים"
      ],
      "execution_count": 1,
      "outputs": [
        {
          "output_type": "error",
          "ename": "NameError",
          "evalue": "ignored",
          "traceback": [
            "\u001b[0;31m---------------------------------------------------------------------------\u001b[0m",
            "\u001b[0;31mNameError\u001b[0m                                 Traceback (most recent call last)",
            "\u001b[0;32m<ipython-input-1-11a6849d599f>\u001b[0m in \u001b[0;36m<module>\u001b[0;34m()\u001b[0m\n\u001b[1;32m      1\u001b[0m \u001b[0;31m# To avoid bugs check type()\u001b[0m\u001b[0;34m\u001b[0m\u001b[0;34m\u001b[0m\u001b[0;34m\u001b[0m\u001b[0m\n\u001b[1;32m      2\u001b[0m \u001b[0;34m\u001b[0m\u001b[0m\n\u001b[0;32m----> 3\u001b[0;31m \u001b[0mprint\u001b[0m\u001b[0;34m(\u001b[0m\u001b[0mtype\u001b[0m\u001b[0;34m(\u001b[0m\u001b[0mdogs\u001b[0m\u001b[0;34m)\u001b[0m\u001b[0;34m)\u001b[0m\u001b[0;34m\u001b[0m\u001b[0;34m\u001b[0m\u001b[0m\n\u001b[0m\u001b[1;32m      4\u001b[0m \u001b[0;31m# כעת תבדקו את הקודמים\u001b[0m\u001b[0;34m\u001b[0m\u001b[0;34m\u001b[0m\u001b[0;34m\u001b[0m\u001b[0m\n",
            "\u001b[0;31mNameError\u001b[0m: name 'dogs' is not defined"
          ]
        }
      ]
    },
    {
      "cell_type": "markdown",
      "metadata": {
        "id": "CaL-ZA4lHprX"
      },
      "source": [
        "## = אופרטור השמה"
      ]
    },
    {
      "cell_type": "code",
      "metadata": {
        "jupyter": {
          "outputs_hidden": false
        },
        "pycharm": {
          "name": "#%%\n"
        },
        "id": "Cx1Ouc45HprX",
        "outputId": "b143713f-3bd7-4859-c62b-ae8e6c64b3f6"
      },
      "source": [
        "a = 5\n",
        "a"
      ],
      "execution_count": null,
      "outputs": [
        {
          "output_type": "execute_result",
          "data": {
            "text/plain": [
              "5"
            ]
          },
          "metadata": {
            "tags": []
          },
          "execution_count": 20
        }
      ]
    },
    {
      "cell_type": "code",
      "metadata": {
        "jupyter": {
          "outputs_hidden": false
        },
        "pycharm": {
          "name": "#%%\n"
        },
        "id": "XK8Lpp4NHprZ"
      },
      "source": [
        "a = a+10"
      ],
      "execution_count": null,
      "outputs": []
    },
    {
      "cell_type": "code",
      "metadata": {
        "jupyter": {
          "outputs_hidden": false
        },
        "pycharm": {
          "name": "#%%\n"
        },
        "id": "tzZxO_cIHprc",
        "outputId": "c2c8c1ea-98a1-4818-e51c-3ad09255b5ea"
      },
      "source": [
        "a +=1\n",
        "a"
      ],
      "execution_count": null,
      "outputs": [
        {
          "output_type": "execute_result",
          "data": {
            "text/plain": [
              "16"
            ]
          },
          "metadata": {
            "tags": []
          },
          "execution_count": 22
        }
      ]
    },
    {
      "cell_type": "code",
      "metadata": {
        "jupyter": {
          "outputs_hidden": false
        },
        "pycharm": {
          "name": "#%%\n"
        },
        "id": "5meKqsC9Hpre"
      },
      "source": [
        "a +=1\n",
        "a"
      ],
      "execution_count": null,
      "outputs": []
    },
    {
      "cell_type": "code",
      "metadata": {
        "jupyter": {
          "outputs_hidden": false
        },
        "pycharm": {
          "name": "#%%\n"
        },
        "id": "uHvGMKswHprh"
      },
      "source": [
        "a +=1\n",
        "a"
      ],
      "execution_count": null,
      "outputs": []
    },
    {
      "cell_type": "code",
      "metadata": {
        "jupyter": {
          "outputs_hidden": false
        },
        "pycharm": {
          "name": "#%%\n"
        },
        "id": "ytf7uqRbHprl",
        "outputId": "e4728d8d-6378-441b-d2aa-4731ba7fd4c2"
      },
      "source": [
        "a=2\n",
        "a *=3\n",
        "a"
      ],
      "execution_count": null,
      "outputs": [
        {
          "output_type": "execute_result",
          "data": {
            "text/plain": [
              "6"
            ]
          },
          "metadata": {
            "tags": []
          },
          "execution_count": 25
        }
      ]
    },
    {
      "cell_type": "code",
      "metadata": {
        "jupyter": {
          "outputs_hidden": false
        },
        "pycharm": {
          "name": "#%%\n"
        },
        "id": "sifskOXHHprq",
        "outputId": "88914dcf-ba8c-46a9-a50f-58f2369d4128"
      },
      "source": [
        "# Check variable type\n",
        "\n",
        "type(a)"
      ],
      "execution_count": null,
      "outputs": [
        {
          "output_type": "execute_result",
          "data": {
            "text/plain": [
              "int"
            ]
          },
          "metadata": {
            "tags": []
          },
          "execution_count": 26
        }
      ]
    },
    {
      "cell_type": "code",
      "metadata": {
        "jupyter": {
          "outputs_hidden": false
        },
        "pycharm": {
          "name": "#%%\n"
        },
        "id": "sW5xcwOGHpru",
        "outputId": "c76e13cc-0535-451d-c5e3-2a269b95fec2"
      },
      "source": [
        "a=(3,4) # Tuple - סדרה של אוביקטים מסודרים בסדר מסוים ולא ניתנים לשינוי \n",
        "a\n",
        "print(type(a))\n",
        "\n",
        "\n",
        "aa=('a',1,33)\n",
        "print(aa)\n",
        "\n",
        "'''\n",
        "\n",
        "A tuple is a collection of objects which ordered\n",
        "and immutable. Tuples are sequences, just like lists.\n",
        "The differences between tuples and lists are, the tuples\n",
        "cannot be changed unlike lists and tuples use parentheses,\n",
        "whereas lists use square brackets.\n",
        "https://www.tutorialspoint.com/python/python_tuples.htm#:~:text=A%20tuple%20is%20a%20collection,whereas%20lists%20use%20square%20brackets\n",
        "\n",
        "'''"
      ],
      "execution_count": null,
      "outputs": [
        {
          "output_type": "execute_result",
          "data": {
            "text/plain": [
              "tuple"
            ]
          },
          "metadata": {
            "tags": []
          },
          "execution_count": 27
        }
      ]
    },
    {
      "cell_type": "markdown",
      "metadata": {
        "id": "6vgGhCmdHprx"
      },
      "source": [
        "##מחרוזות - Strings\n",
        "\n",
        "* Text\n",
        "* Sequence\n",
        "\n",
        "ליצירת מחרוזת נשתמש בגרשיים"
      ]
    },
    {
      "cell_type": "code",
      "metadata": {
        "jupyter": {
          "outputs_hidden": false
        },
        "pycharm": {
          "name": "#%%\n"
        },
        "id": "hCN-8-6eHpry",
        "outputId": "f1007701-364b-4285-fe8a-65ec7e460640"
      },
      "source": [
        "'Hi'"
      ],
      "execution_count": null,
      "outputs": [
        {
          "output_type": "execute_result",
          "data": {
            "text/plain": [
              "'Hi'"
            ]
          },
          "metadata": {
            "tags": []
          },
          "execution_count": 28
        }
      ]
    },
    {
      "cell_type": "code",
      "metadata": {
        "jupyter": {
          "outputs_hidden": false
        },
        "pycharm": {
          "name": "#%%\n"
        },
        "id": "8dqeBicPHpr0",
        "outputId": "a45696c5-34a2-49cd-9d1c-243164e08333"
      },
      "source": [
        "Hi"
      ],
      "execution_count": null,
      "outputs": [
        {
          "output_type": "error",
          "ename": "NameError",
          "evalue": "name 'Hi' is not defined",
          "traceback": [
            "\u001b[1;31m---------------------------------------------------------------------------\u001b[0m",
            "\u001b[1;31mNameError\u001b[0m                                 Traceback (most recent call last)",
            "\u001b[1;32m<ipython-input-54-0c1bc52c5001>\u001b[0m in \u001b[0;36m<module>\u001b[1;34m\u001b[0m\n\u001b[1;32m----> 1\u001b[1;33m \u001b[0mHi\u001b[0m\u001b[1;33m\u001b[0m\u001b[1;33m\u001b[0m\u001b[0m\n\u001b[0m",
            "\u001b[1;31mNameError\u001b[0m: name 'Hi' is not defined"
          ]
        }
      ]
    },
    {
      "cell_type": "code",
      "metadata": {
        "jupyter": {
          "outputs_hidden": false
        },
        "pycharm": {
          "name": "#%%\n"
        },
        "id": "HXtEFkJ2Hpr8"
      },
      "source": [
        "a = 'Hi'\n",
        "a"
      ],
      "execution_count": null,
      "outputs": []
    },
    {
      "cell_type": "code",
      "metadata": {
        "jupyter": {
          "outputs_hidden": false
        },
        "pycharm": {
          "name": "#%%\n"
        },
        "id": "sLo29PicHpsD"
      },
      "source": [
        "a = Hi\n",
        "a"
      ],
      "execution_count": null,
      "outputs": []
    },
    {
      "cell_type": "code",
      "metadata": {
        "jupyter": {
          "outputs_hidden": false
        },
        "pycharm": {
          "name": "#%%\n"
        },
        "id": "y_8Lc6k9HpsF"
      },
      "source": [
        "print(a)"
      ],
      "execution_count": null,
      "outputs": []
    },
    {
      "cell_type": "code",
      "metadata": {
        "jupyter": {
          "outputs_hidden": false
        },
        "pycharm": {
          "name": "#%%\n"
        },
        "id": "djb9vg-fHpsJ"
      },
      "source": [
        "a = 'How are you?'\n",
        "print(a)"
      ],
      "execution_count": null,
      "outputs": []
    },
    {
      "cell_type": "code",
      "metadata": {
        "jupyter": {
          "outputs_hidden": false
        },
        "pycharm": {
          "name": "#%%\n"
        },
        "id": "uj0SXsQKHpsL"
      },
      "source": [
        "a = \"TV is good!\"\n",
        "print(a)"
      ],
      "execution_count": null,
      "outputs": []
    },
    {
      "cell_type": "code",
      "metadata": {
        "jupyter": {
          "outputs_hidden": false
        },
        "pycharm": {
          "name": "#%%\n"
        },
        "id": "IcUH6NvtHpsN"
      },
      "source": [
        "a = '''I love python'''\n",
        "print(a)"
      ],
      "execution_count": null,
      "outputs": []
    },
    {
      "cell_type": "code",
      "metadata": {
        "jupyter": {
          "outputs_hidden": false
        },
        "pycharm": {
          "name": "#%%\n"
        },
        "id": "DB0_ejmjHpsP"
      },
      "source": [
        "a = 'I'm happy'\n",
        "print(a)"
      ],
      "execution_count": null,
      "outputs": []
    },
    {
      "cell_type": "code",
      "metadata": {
        "jupyter": {
          "outputs_hidden": false
        },
        "pycharm": {
          "name": "#%%\n"
        },
        "id": "eISRRyzTHpsR"
      },
      "source": [
        "a = \"I'm happy\"\n",
        "print(a)"
      ],
      "execution_count": null,
      "outputs": []
    },
    {
      "cell_type": "code",
      "metadata": {
        "jupyter": {
          "outputs_hidden": false
        },
        "pycharm": {
          "name": "#%%\n"
        },
        "id": "uCeNj-XuHpsT"
      },
      "source": [
        "a = 'I love' \\\n",
        "    'Python' \\\n",
        "    '!'\n",
        "\n",
        "print(a)\n",
        "\n",
        "# Correct"
      ],
      "execution_count": null,
      "outputs": []
    },
    {
      "cell_type": "code",
      "metadata": {
        "jupyter": {
          "outputs_hidden": false
        },
        "pycharm": {
          "name": "#%%\n"
        },
        "id": "4SzIQE4mHpsX"
      },
      "source": [
        "# Why should we use print()\n",
        "'Hi 1'\n",
        "'Hi 2'\n",
        "\n",
        "# Correct!"
      ],
      "execution_count": null,
      "outputs": []
    },
    {
      "cell_type": "code",
      "metadata": {
        "jupyter": {
          "outputs_hidden": false
        },
        "pycharm": {
          "name": "#%%\n"
        },
        "id": "VgOkqVSzHpsZ"
      },
      "source": [
        "# New line\n",
        "\n",
        "a = 'I love \\n' \\\n",
        "    'Python \\n' \\\n",
        "    '!'\n",
        "\n",
        "print(a)"
      ],
      "execution_count": null,
      "outputs": []
    },
    {
      "cell_type": "code",
      "metadata": {
        "jupyter": {
          "outputs_hidden": false
        },
        "pycharm": {
          "name": "#%%\n"
        },
        "id": "cxh3guNGHpse"
      },
      "source": [
        "# New line\n",
        "\n",
        "a = 'I love \\nPython \\n!'\n",
        "\n",
        "print(a)\n"
      ],
      "execution_count": null,
      "outputs": []
    },
    {
      "cell_type": "code",
      "metadata": {
        "id": "s7ukkFNdnkGh"
      },
      "source": [
        "# Tab\n",
        "a = 'I \\t\\t love \\nPython \\n!'\n",
        "\n",
        "print(a)"
      ],
      "execution_count": null,
      "outputs": []
    },
    {
      "cell_type": "code",
      "metadata": {
        "jupyter": {
          "outputs_hidden": false
        },
        "pycharm": {
          "name": "#%%\n"
        },
        "id": "eP8gUGrAHpsi"
      },
      "source": [
        "# בדיקת אורך מחרוזת\n",
        "# https://www.programiz.com/python-programming/methods/built-in/len\n",
        "# סופר תווים כולל רווחים וניקוד\n",
        "len('Hello')\n"
      ],
      "execution_count": null,
      "outputs": []
    },
    {
      "cell_type": "markdown",
      "metadata": {
        "id": "nSMdyN66Hpsn"
      },
      "source": [
        "## String Indexing\n",
        "\n",
        "* בפייתון משתמשים ב [] ע''מ לגשת לחלקים במחרוזת\n",
        "\n",
        "* אינדקסציה בפייתון מתחילה מאפס\n",
        "\n",
        "Character (תו)     Python :)                       \\\n",
        "Index             0,1,2,3,4,5,6,7,8               \\\n",
        "Reverse index     0,-8,-7,-6,-5,-4,-3,-2,-1  \n"
      ]
    },
    {
      "cell_type": "code",
      "metadata": {
        "jupyter": {
          "outputs_hidden": false
        },
        "pycharm": {
          "name": "#%%\n"
        },
        "id": "tL-LHjkhHpso",
        "outputId": "3f76389f-df5d-4b6c-bed3-c479d4cef9be"
      },
      "source": [
        "a = 'I Love Python:)'\n",
        "a"
      ],
      "execution_count": null,
      "outputs": [
        {
          "output_type": "execute_result",
          "data": {
            "text/plain": [
              "'I Love Python:)'"
            ]
          },
          "metadata": {
            "tags": []
          },
          "execution_count": 78
        }
      ]
    },
    {
      "cell_type": "code",
      "metadata": {
        "jupyter": {
          "outputs_hidden": false
        },
        "pycharm": {
          "name": "#%%\n"
        },
        "id": "yEMVZ4xcHpst"
      },
      "source": [
        "# The first letter\n",
        "a[0]"
      ],
      "execution_count": null,
      "outputs": []
    },
    {
      "cell_type": "code",
      "metadata": {
        "jupyter": {
          "outputs_hidden": false
        },
        "pycharm": {
          "name": "#%%\n"
        },
        "id": "S3DgcxIAHpsw"
      },
      "source": [
        "a[1]\n"
      ],
      "execution_count": null,
      "outputs": []
    },
    {
      "cell_type": "code",
      "metadata": {
        "jupyter": {
          "outputs_hidden": false
        },
        "pycharm": {
          "name": "#%%\n"
        },
        "id": "qtlJaYUsHps3",
        "outputId": "4acdbbd6-f417-4ab7-9276-e21961eb2ae8"
      },
      "source": [
        "# Last letter\n",
        "a[-1]\n"
      ],
      "execution_count": null,
      "outputs": [
        {
          "output_type": "execute_result",
          "data": {
            "text/plain": [
              "')'"
            ]
          },
          "metadata": {
            "tags": []
          },
          "execution_count": 40
        }
      ]
    },
    {
      "cell_type": "code",
      "metadata": {
        "jupyter": {
          "outputs_hidden": false
        },
        "pycharm": {
          "name": "#%%\n"
        },
        "id": "yP6jOueVHps7",
        "outputId": "5423c167-5385-45aa-c3ac-89abbdbe6f7c"
      },
      "source": [
        "print(len(a))"
      ],
      "execution_count": null,
      "outputs": [
        {
          "output_type": "stream",
          "text": [
            "15\n"
          ],
          "name": "stdout"
        }
      ]
    },
    {
      "cell_type": "code",
      "metadata": {
        "jupyter": {
          "outputs_hidden": false
        },
        "pycharm": {
          "name": "#%%\n"
        },
        "id": "vak_0aYrHps8",
        "outputId": "50d84035-f93e-4719-fbf4-976d2bfa1ad2"
      },
      "source": [
        "# Last letter\n",
        "\n",
        "a[len(a)]\n",
        "\n",
        "# Correct. Remember we start with zero index."
      ],
      "execution_count": null,
      "outputs": [
        {
          "output_type": "error",
          "ename": "IndexError",
          "evalue": "string index out of range",
          "traceback": [
            "\u001b[1;31m---------------------------------------------------------------------------\u001b[0m",
            "\u001b[1;31mIndexError\u001b[0m                                Traceback (most recent call last)",
            "\u001b[1;32m<ipython-input-35-8a662d44161a>\u001b[0m in \u001b[0;36m<module>\u001b[1;34m\u001b[0m\n\u001b[0;32m      1\u001b[0m \u001b[1;31m# Last letter\u001b[0m\u001b[1;33m\u001b[0m\u001b[1;33m\u001b[0m\u001b[1;33m\u001b[0m\u001b[0m\n\u001b[0;32m      2\u001b[0m \u001b[1;33m\u001b[0m\u001b[0m\n\u001b[1;32m----> 3\u001b[1;33m \u001b[0ma\u001b[0m\u001b[1;33m[\u001b[0m\u001b[0mlen\u001b[0m\u001b[1;33m(\u001b[0m\u001b[0ma\u001b[0m\u001b[1;33m)\u001b[0m\u001b[1;33m]\u001b[0m\u001b[1;33m\u001b[0m\u001b[1;33m\u001b[0m\u001b[0m\n\u001b[0m",
            "\u001b[1;31mIndexError\u001b[0m: string index out of range"
          ]
        }
      ]
    },
    {
      "cell_type": "markdown",
      "metadata": {
        "pycharm": {
          "name": "#%% md\n"
        },
        "id": "N_lUB7J4HptB"
      },
      "source": [
        "השתמשו ב : ע''מ לבחור מקטעים במחרוזת"
      ]
    },
    {
      "cell_type": "code",
      "metadata": {
        "jupyter": {
          "outputs_hidden": false
        },
        "pycharm": {
          "name": "#%%\n"
        },
        "id": "6GLg5uEGHptB",
        "outputId": "f64ed6f1-d041-4543-ac14-36f5f6d95780"
      },
      "source": [
        "a[:]"
      ],
      "execution_count": null,
      "outputs": [
        {
          "output_type": "execute_result",
          "data": {
            "text/plain": [
              "'I Love Python:)'"
            ]
          },
          "metadata": {
            "tags": []
          },
          "execution_count": 36
        }
      ]
    },
    {
      "cell_type": "code",
      "metadata": {
        "jupyter": {
          "outputs_hidden": false
        },
        "pycharm": {
          "name": "#%%\n"
        },
        "id": "GcbKWrreHptC"
      },
      "source": [
        "a[0:]"
      ],
      "execution_count": null,
      "outputs": []
    },
    {
      "cell_type": "code",
      "metadata": {
        "jupyter": {
          "outputs_hidden": false
        },
        "pycharm": {
          "name": "#%%\n"
        },
        "id": "uhZcG-4wHptE"
      },
      "source": [
        "a[1:]"
      ],
      "execution_count": null,
      "outputs": []
    },
    {
      "cell_type": "code",
      "metadata": {
        "jupyter": {
          "outputs_hidden": false
        },
        "pycharm": {
          "name": "#%%\n"
        },
        "id": "WVFGa5LMHptG",
        "outputId": "48d3e9c7-d077-4bba-f2f2-4c9fb87d1bb2"
      },
      "source": [
        "# Lets get 'I Love'\n",
        "a[:4]\n",
        "\n",
        "# Correct\n"
      ],
      "execution_count": null,
      "outputs": [
        {
          "output_type": "execute_result",
          "data": {
            "text/plain": [
              "'I Lo'"
            ]
          },
          "metadata": {
            "tags": []
          },
          "execution_count": 44
        }
      ]
    },
    {
      "cell_type": "code",
      "metadata": {
        "jupyter": {
          "outputs_hidden": false
        },
        "pycharm": {
          "name": "#%%\n"
        },
        "id": "t2pNykzmHptI",
        "outputId": "1f1cd123-f461-46ce-d77f-0e009293fb7e"
      },
      "source": [
        "# Lets get 'Love'\n",
        "a[2:4]\n",
        "\n",
        "# Correct\n",
        "# The last index is not included\n",
        "# אינדקס אחרון בדרך כלל לא כלול כמו פה\n"
      ],
      "execution_count": null,
      "outputs": [
        {
          "output_type": "execute_result",
          "data": {
            "text/plain": [
              "'Lo'"
            ]
          },
          "metadata": {
            "tags": []
          },
          "execution_count": 45
        }
      ]
    },
    {
      "cell_type": "code",
      "metadata": {
        "jupyter": {
          "outputs_hidden": false
        },
        "pycharm": {
          "name": "#%%\n"
        },
        "id": "DSmPQ-ZpHptJ",
        "outputId": "7b2c4f12-7bd4-4714-b967-f833d6a6e8f7"
      },
      "source": [
        "# Use - to go back.\n",
        "\n",
        "a[:-1]"
      ],
      "execution_count": null,
      "outputs": [
        {
          "output_type": "execute_result",
          "data": {
            "text/plain": [
              "'I Love Python:'"
            ]
          },
          "metadata": {
            "tags": []
          },
          "execution_count": 46
        }
      ]
    },
    {
      "cell_type": "code",
      "metadata": {
        "jupyter": {
          "outputs_hidden": false
        },
        "pycharm": {
          "name": "#%%\n"
        },
        "id": "2d8btkvpHptM",
        "outputId": "f0469669-4132-4bfb-d3e2-cf3e7488013e"
      },
      "source": [
        "a[:-2]\n",
        "\n",
        "# Last index not included"
      ],
      "execution_count": null,
      "outputs": [
        {
          "output_type": "execute_result",
          "data": {
            "text/plain": [
              "'I Love Python'"
            ]
          },
          "metadata": {
            "tags": []
          },
          "execution_count": 48
        }
      ]
    },
    {
      "cell_type": "code",
      "metadata": {
        "jupyter": {
          "outputs_hidden": false
        },
        "pycharm": {
          "name": "#%%\n"
        },
        "id": "Yy0ZQhMIHptO",
        "outputId": "2b9852e4-cc09-42a4-f199-924475e31138"
      },
      "source": [
        "# Lets get the smile:)\n",
        "# Use - to go back.\n",
        "\n",
        "a[-2:]\n",
        "\n",
        "# What is the problem? Correct"
      ],
      "execution_count": null,
      "outputs": [
        {
          "output_type": "execute_result",
          "data": {
            "text/plain": [
              "':)'"
            ]
          },
          "metadata": {
            "tags": []
          },
          "execution_count": 80
        }
      ]
    },
    {
      "cell_type": "markdown",
      "metadata": {
        "pycharm": {
          "name": "#%% md\n"
        },
        "id": "2ufy2WAqHptQ"
      },
      "source": [
        "שימוש בצעדים\n",
        "\n",
        "start : end : step\n",
        "\n",
        "האחרון לא כלול"
      ]
    },
    {
      "cell_type": "code",
      "metadata": {
        "jupyter": {
          "outputs_hidden": false
        },
        "pycharm": {
          "name": "#%%\n"
        },
        "id": "4vWqVB2KHptQ",
        "outputId": "4957f8be-455f-410b-80a6-9fe790febc07"
      },
      "source": [
        "a[::1]"
      ],
      "execution_count": null,
      "outputs": [
        {
          "output_type": "execute_result",
          "data": {
            "text/plain": [
              "'I Love Python:)'"
            ]
          },
          "metadata": {
            "tags": []
          },
          "execution_count": 51
        }
      ]
    },
    {
      "cell_type": "code",
      "metadata": {
        "jupyter": {
          "outputs_hidden": false
        },
        "pycharm": {
          "name": "#%%\n"
        },
        "id": "gCjnci9OHptS",
        "outputId": "7c60de46-087f-4f5b-db4c-47ba2d76c376"
      },
      "source": [
        "a[::2]"
      ],
      "execution_count": null,
      "outputs": [
        {
          "output_type": "execute_result",
          "data": {
            "text/plain": [
              "'ILv yhn)'"
            ]
          },
          "metadata": {
            "tags": []
          },
          "execution_count": 52
        }
      ]
    },
    {
      "cell_type": "code",
      "metadata": {
        "jupyter": {
          "outputs_hidden": false
        },
        "pycharm": {
          "name": "#%%\n"
        },
        "id": "KkdbiQZaHptT",
        "outputId": "7fd1a663-5a49-4f97-a8aa-fa70458320aa"
      },
      "source": [
        "# What happens here?\n",
        "a[::-1]"
      ],
      "execution_count": null,
      "outputs": [
        {
          "output_type": "execute_result",
          "data": {
            "text/plain": [
              "'):nohtyP evoL I'"
            ]
          },
          "metadata": {
            "tags": []
          },
          "execution_count": 53
        }
      ]
    },
    {
      "cell_type": "markdown",
      "metadata": {
        "pycharm": {
          "name": "#%% md\n"
        },
        "id": "Ay9PLoP0HptW"
      },
      "source": [
        "## Imutability\n",
        "לאחר יצירת מחרוזת לא ניתן לשנות אותה או להחליף."
      ]
    },
    {
      "cell_type": "code",
      "metadata": {
        "jupyter": {
          "outputs_hidden": false
        },
        "pycharm": {
          "name": "#%%\n"
        },
        "id": "B2G_P1wSHptW"
      },
      "source": [
        "a = 'Hello'\n",
        "a"
      ],
      "execution_count": null,
      "outputs": []
    },
    {
      "cell_type": "code",
      "metadata": {
        "jupyter": {
          "outputs_hidden": false
        },
        "pycharm": {
          "name": "#%%\n"
        },
        "id": "PpwNtBOpHptY"
      },
      "source": [
        "a[0] = 'A'"
      ],
      "execution_count": null,
      "outputs": []
    },
    {
      "cell_type": "markdown",
      "metadata": {
        "id": "3LTJR-zHHpta"
      },
      "source": [
        "שירשור מחרוזות\n",
        "Concatenate strings\n"
      ]
    },
    {
      "cell_type": "code",
      "metadata": {
        "jupyter": {
          "outputs_hidden": false
        },
        "pycharm": {
          "name": "#%%\n"
        },
        "id": "KRlPd7SFHptb",
        "outputId": "d4364270-ad38-470a-ef2d-e9dd1508b414"
      },
      "source": [
        "a\n",
        "b = a + ' Bob'\n",
        "print(b)"
      ],
      "execution_count": null,
      "outputs": [
        {
          "output_type": "stream",
          "text": [
            "Hello Bob\n"
          ],
          "name": "stdout"
        }
      ]
    },
    {
      "cell_type": "code",
      "metadata": {
        "jupyter": {
          "outputs_hidden": false
        },
        "pycharm": {
          "name": "#%%\n"
        },
        "id": "P3Co4SH8Hptk"
      },
      "source": [
        "c = :)\n",
        "d = b + c\n",
        "print(d)\n",
        "\n",
        "# Correct"
      ],
      "execution_count": null,
      "outputs": []
    },
    {
      "cell_type": "code",
      "metadata": {
        "jupyter": {
          "outputs_hidden": false
        },
        "pycharm": {
          "name": "#%%\n"
        },
        "id": "SQE837z4Hpto",
        "outputId": "d3b70154-c3fd-48ac-d5fa-e01610e703f7"
      },
      "source": [
        "c = ':)'\n",
        "b = b + c\n",
        "print(b)"
      ],
      "execution_count": null,
      "outputs": [
        {
          "output_type": "stream",
          "text": [
            "Hello Bob:)\n"
          ],
          "name": "stdout"
        }
      ]
    },
    {
      "cell_type": "code",
      "metadata": {
        "jupyter": {
          "outputs_hidden": false
        },
        "pycharm": {
          "name": "#%%\n"
        },
        "id": "W93y9_bZHptr",
        "outputId": "c0f97299-91b0-4705-88d2-7ff77ee95251"
      },
      "source": [
        "# Repetition - שכפול\n",
        "\n",
        "a = 'Hi'\n",
        "b = a * 10\n",
        "print(b)\n",
        "# Add space now\n"
      ],
      "execution_count": null,
      "outputs": [
        {
          "output_type": "stream",
          "text": [
            "HiHiHiHiHiHiHiHiHiHi\n"
          ],
          "name": "stdout"
        }
      ]
    },
    {
      "cell_type": "markdown",
      "metadata": {
        "id": "kIgFYjRKHptx"
      },
      "source": [
        "##Object Methods\n",
        "\n",
        "אוביקטים כוללים מתודות שיכולות לפעול על האוביקט.\n",
        "Objects has built-in methods (functions).\n",
        "that Can perform actions on the object.\n",
        "\n",
        "קוראים למתודות בעזרת נקודה ושם מתודה. לדוגמא:\n",
        "\n",
        "object.method(parameters)\n"
      ]
    },
    {
      "cell_type": "code",
      "metadata": {
        "jupyter": {
          "outputs_hidden": false
        },
        "pycharm": {
          "name": "#%%\n"
        },
        "id": "nVms2v0lHpty"
      },
      "source": [
        "a = 'Hello'"
      ],
      "execution_count": null,
      "outputs": []
    },
    {
      "cell_type": "code",
      "metadata": {
        "jupyter": {
          "outputs_hidden": false
        },
        "pycharm": {
          "name": "#%%\n"
        },
        "id": "0VhRWIbKHpt5",
        "outputId": "d2def486-5b84-414a-b3cd-c8156c9f2e54"
      },
      "source": [
        "a.upper()"
      ],
      "execution_count": null,
      "outputs": [
        {
          "output_type": "execute_result",
          "data": {
            "text/plain": [
              "'HELLO'"
            ]
          },
          "metadata": {
            "tags": []
          },
          "execution_count": 63
        }
      ]
    },
    {
      "cell_type": "code",
      "metadata": {
        "jupyter": {
          "outputs_hidden": false
        },
        "pycharm": {
          "name": "#%%\n"
        },
        "id": "VzC3GGQZHpt9",
        "outputId": "efdd0368-10b9-4aed-823c-8c808a31a154"
      },
      "source": [
        "print(a)\n",
        "a = a.upper()\n",
        "# print(a)"
      ],
      "execution_count": null,
      "outputs": [
        {
          "output_type": "stream",
          "text": [
            "HELLO\n"
          ],
          "name": "stdout"
        }
      ]
    },
    {
      "cell_type": "code",
      "metadata": {
        "jupyter": {
          "outputs_hidden": false
        },
        "pycharm": {
          "name": "#%%\n"
        },
        "id": "DSGxQeHtHpt_"
      },
      "source": [
        "print(a)\n",
        "a = a.lower()\n",
        "# print(a)"
      ],
      "execution_count": null,
      "outputs": []
    },
    {
      "cell_type": "code",
      "metadata": {
        "jupyter": {
          "outputs_hidden": false
        },
        "pycharm": {
          "name": "#%%\n"
        },
        "id": "4o3yfqpfHpuC",
        "outputId": "af0f566c-e5b0-4065-a0d7-750213774ee1"
      },
      "source": [
        "# פיצול מחרוזת לפי רווח\n",
        "\n",
        "a= 'Hello World'\n",
        "print(a)\n",
        "print(type(a))\n",
        "b = a.split()\n",
        "print(b)\n",
        "type(b)"
      ],
      "execution_count": null,
      "outputs": [
        {
          "output_type": "stream",
          "text": [
            "Hello World\n",
            "<class 'str'>\n",
            "['Hello', 'World']\n"
          ],
          "name": "stdout"
        },
        {
          "output_type": "execute_result",
          "data": {
            "text/plain": [
              "list"
            ]
          },
          "metadata": {
            "tags": []
          },
          "execution_count": 75
        }
      ]
    },
    {
      "cell_type": "code",
      "metadata": {
        "jupyter": {
          "outputs_hidden": false
        },
        "pycharm": {
          "name": "#%%\n"
        },
        "id": "IgMnBrkCHpuF",
        "outputId": "fa7412e0-f7f7-49d6-c9d5-22cdc8b1b293"
      },
      "source": [
        "a\n",
        "a.split('o')\n"
      ],
      "execution_count": null,
      "outputs": [
        {
          "output_type": "execute_result",
          "data": {
            "text/plain": [
              "['Hell', ' W', 'rld']"
            ]
          },
          "metadata": {
            "tags": []
          },
          "execution_count": 76
        }
      ]
    },
    {
      "cell_type": "code",
      "metadata": {
        "jupyter": {
          "outputs_hidden": false
        },
        "pycharm": {
          "name": "#%%\n"
        },
        "id": "9HSMWoA5HpuI"
      },
      "source": [
        "# מה זה עושה?\n",
        "\n",
        "'Insert in brackets = {}'.format('Hello!')"
      ],
      "execution_count": null,
      "outputs": []
    },
    {
      "cell_type": "markdown",
      "metadata": {
        "id": "kA7h1GZ-qlSX"
      },
      "source": [
        "## **תבניות - פרמוט מחרוזות**"
      ]
    },
    {
      "cell_type": "code",
      "metadata": {
        "id": "PrXWMM7Nqkjx"
      },
      "source": [
        "dog_name = 'Bubi'\n",
        "ice_cream_num = 2\n",
        "\n",
        "print('Today, ' + dog_name + ' had ' + str(ice_cream_num) + ' icecream portions.' )  # שירשור\n",
        "\n",
        "print( f'Today, {dog_name} had {ice_cream_num} icecream portions.')   # הצבה\n",
        "\n"
      ],
      "execution_count": null,
      "outputs": []
    },
    {
      "cell_type": "markdown",
      "metadata": {
        "id": "hlu-JmXbzFi_"
      },
      "source": [
        "פרמוט מחרוזות בעזרת %\n",
        "\n",
        "% - Placeholder - סימניה  \\\n",
        "%s - הזרקת מחרוזת \\\n",
        "% - String formating operator"
      ]
    },
    {
      "cell_type": "code",
      "metadata": {
        "id": "FOiDyxo80Q7N"
      },
      "source": [
        "print(\"Inject %s here.\" %'something')"
      ],
      "execution_count": null,
      "outputs": []
    },
    {
      "cell_type": "markdown",
      "metadata": {
        "id": "hAZEBbbw0hOR"
      },
      "source": [
        "ניתן להזריק מספר עצמים. ע''מ לעשות זאת נשים אותם ב \\\n",
        "tuple \\\n",
        "אחרי סימן %\n",
        "\n",
        "\n",
        "\n",
        "\n"
      ]
    },
    {
      "cell_type": "code",
      "metadata": {
        "id": "zh8Ky-ql1XJe"
      },
      "source": [
        "print(\"Inject %s text here, and %s text here.\" %('the first','the second'))"
      ],
      "execution_count": null,
      "outputs": []
    },
    {
      "cell_type": "markdown",
      "metadata": {
        "id": "rAsMcXPe2GEM"
      },
      "source": [
        "%s and %r ממיריים כל ביטוי למחרוזת \\\n",
        "%r - preserves quotation marks and any escape characters."
      ]
    },
    {
      "cell_type": "code",
      "metadata": {
        "id": "Jm-v4NjB2ZoH"
      },
      "source": [
        "print('His name is %s.' %'Ohad')\n",
        "print('His name is %r.' %'Ohad')"
      ],
      "execution_count": null,
      "outputs": []
    },
    {
      "cell_type": "code",
      "metadata": {
        "id": "TtrFuXjT2lju"
      },
      "source": [
        "print('Fish is %s.' %'very \\tbig') # \\t - tab\n",
        "print('Fish is %r.' %'very \\tbig')"
      ],
      "execution_count": null,
      "outputs": []
    },
    {
      "cell_type": "markdown",
      "metadata": {
        "id": "TN-PMRZS3fag"
      },
      "source": [
        "%d - operator converts numbers to integers, no rounding."
      ]
    },
    {
      "cell_type": "code",
      "metadata": {
        "id": "X6qQe7Fu3qOP"
      },
      "source": [
        "print('I bought %s potatoes today.' %5.63)\n",
        "print('I bought %d potatoes today.' %5.63)  "
      ],
      "execution_count": null,
      "outputs": []
    },
    {
      "cell_type": "markdown",
      "metadata": {
        "id": "hTsWZhxY4hL7"
      },
      "source": [
        "# **דיוק הצגת נקודה צפה**\n",
        "\n",
        "%5.2f -  \\\n",
        "5 - מספר תוים מינימלי לייצוג במחרוזת \\\n",
        "2 - מספר ספרות לייצוג אחרי נקודה \\\n",
        "ניתן לרפד עם אפסים\n"
      ]
    },
    {
      "cell_type": "code",
      "metadata": {
        "id": "zcf61fUd4prX"
      },
      "source": [
        "print('Floating point number: %5.2f' %(5.1446))"
      ],
      "execution_count": null,
      "outputs": []
    },
    {
      "cell_type": "code",
      "metadata": {
        "id": "BV28iyMs5qoO"
      },
      "source": [
        "print('Floating point number: %1.0f' %(5.1446))"
      ],
      "execution_count": null,
      "outputs": []
    },
    {
      "cell_type": "code",
      "metadata": {
        "id": "FY8ne8h95wt6"
      },
      "source": [
        "print('Floating point number: %1.6f' %(5.1446))"
      ],
      "execution_count": null,
      "outputs": []
    },
    {
      "cell_type": "code",
      "metadata": {
        "id": "DuxbK7uT52hp"
      },
      "source": [
        "print('Floating point number: %20.6f' %(5.1446))   # מה מעניין כאן? ריפוד?"
      ],
      "execution_count": null,
      "outputs": []
    },
    {
      "cell_type": "markdown",
      "metadata": {
        "id": "UF8DtEAy6Umg"
      },
      "source": [
        "# **שילוב שיטות**"
      ]
    },
    {
      "cell_type": "code",
      "metadata": {
        "id": "c_3ULKrA6O6b"
      },
      "source": [
        "print('First: %s, Second: %20.2f, Third: %r' %('Hello!',2.1415,'World!'))"
      ],
      "execution_count": null,
      "outputs": []
    }
  ]
}